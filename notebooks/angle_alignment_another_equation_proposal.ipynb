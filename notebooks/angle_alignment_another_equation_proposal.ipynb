{
 "cells": [
  {
   "cell_type": "markdown",
   "metadata": {},
   "source": [
    "# Angle Alignment - Another equation proposal"
   ]
  },
  {
   "cell_type": "markdown",
   "metadata": {},
   "source": [
    "In this notebook we present slightly different optimization equation than the one we decided to finally use."
   ]
  },
  {
   "cell_type": "markdown",
   "metadata": {},
   "source": [
    "\\begin{equation}\n",
    "\\label{eq:phase1}\n",
    "\\operatorname*{min}_{q_L, q_R \\in S^3} \\frac{1}{n} \\sum_{i=1} d_q(q_i, q_L \\cdot \\hat{q_i} \\cdot q_R)\n",
    "\\end{equation}\n",
    "\n",
    "- $d_q$ is the distance between two quaternions\n",
    "\n",
    "\\begin{equation}\n",
    "\\label{eq:eq2}\n",
    "d(q_1,q_2)=2arccos(|<q_1,q_2>|)\n",
    "\\end{equation}\n",
    "\n",
    "- $q_i \\in S^3$ is the quaternion of a true rotation angles\n",
    "\n",
    "- $\\hat{q_i} \\in S^3$ is the rotation of the estimatied rotation angles\n",
    "\n",
    "- $q_L \\in S^3$ left-isoclinic rotation represented by left-multiplication of the estimated quaternion\n",
    "\n",
    "- $q_R \\in S^3$ right-isoclinic rotation represented by right-multiplication of the estimated quaternion\n"
   ]
  },
  {
   "cell_type": "markdown",
   "metadata": {},
   "source": [
    "In this case, the optimization is concentration on minimizing the function loss by changing the left- and right- isoclinic rotations represented as a quaternion. This method as well as the one chosen as the final one do the same thing. Therefore, just a different representation is introduced here (working with two quaternions instead of working with one 4D rotation matrix). "
   ]
  },
  {
   "cell_type": "code",
   "execution_count": 1,
   "metadata": {},
   "outputs": [],
   "source": [
    "from numba import cuda\n",
    "cuda.select_device(0)\n",
    "cuda.close()"
   ]
  },
  {
   "cell_type": "code",
   "execution_count": 2,
   "metadata": {},
   "outputs": [
    {
     "name": "stderr",
     "output_type": "stream",
     "text": [
      "Warning: To use the exr data format, please install the OpenEXR package following the instructions detailed in the README at github.com/tensorflow/graphics.\n",
      "Warning: To use the threejs_vizualization, please install the colabtools package following the instructions detailed in the README at github.com/tensorflow/graphics.\n"
     ]
    }
   ],
   "source": [
    "import os\n",
    "import h5py\n",
    "import numpy as np\n",
    "import matplotlib.pyplot as plt\n",
    "from IPython.display import Image\n",
    "from IPython import display as IPyDisplay\n",
    "import ipyvolume as ipv\n",
    "import tensorflow as tf\n",
    "from tensorflow.keras.optimizers import Adam\n",
    "from tensorflow_graphics.geometry.transformation import quaternion\n",
    "import seaborn as sns; sns.set(style=\"white\", color_codes=True)\n",
    "import random\n",
    "from tensorflow_graphics.math import vector\n",
    "from itertools import product\n",
    "import time\n",
    "from tensorflow_graphics.util import safe_ops, asserts, shape\n",
    "import math\n",
    "from scipy.spatial.transform import Rotation as R"
   ]
  },
  {
   "cell_type": "code",
   "execution_count": 1,
   "metadata": {},
   "outputs": [
    {
     "name": "stderr",
     "output_type": "stream",
     "text": [
      "Warning: To use the exr data format, please install the OpenEXR package following the instructions detailed in the README at github.com/tensorflow/graphics.\n",
      "Warning: To use the threejs_vizualization, please install the colabtools package following the instructions detailed in the README at github.com/tensorflow/graphics.\n"
     ]
    }
   ],
   "source": [
    "import sys\n",
    "sys.path.append(\"..\")\n",
    "from oml.angles import quaternion2euler, euler2quaternion, d_q\n",
    "from oml.alignment import angles_transpose"
   ]
  },
  {
   "cell_type": "code",
   "execution_count": 3,
   "metadata": {},
   "outputs": [
    {
     "name": "stdout",
     "output_type": "stream",
     "text": [
      "[name: \"/device:CPU:0\"\n",
      "device_type: \"CPU\"\n",
      "memory_limit: 268435456\n",
      "locality {\n",
      "}\n",
      "incarnation: 1816809573819230230\n",
      ", name: \"/device:XLA_CPU:0\"\n",
      "device_type: \"XLA_CPU\"\n",
      "memory_limit: 17179869184\n",
      "locality {\n",
      "}\n",
      "incarnation: 12548246620952433758\n",
      "physical_device_desc: \"device: XLA_CPU device\"\n",
      ", name: \"/device:XLA_GPU:0\"\n",
      "device_type: \"XLA_GPU\"\n",
      "memory_limit: 17179869184\n",
      "locality {\n",
      "}\n",
      "incarnation: 12134695565463289576\n",
      "physical_device_desc: \"device: XLA_GPU device\"\n",
      ", name: \"/device:GPU:0\"\n",
      "device_type: \"GPU\"\n",
      "memory_limit: 3094937600\n",
      "locality {\n",
      "  bus_id: 1\n",
      "  links {\n",
      "  }\n",
      "}\n",
      "incarnation: 15450478778985634396\n",
      "physical_device_desc: \"device: 0, name: GeForce GTX 1050 Ti with Max-Q Design, pci bus id: 0000:01:00.0, compute capability: 6.1\"\n",
      "]\n"
     ]
    }
   ],
   "source": [
    "from tensorflow.python.client import device_lib \n",
    "print(device_lib.list_local_devices())"
   ]
  },
  {
   "cell_type": "markdown",
   "metadata": {},
   "source": [
    "# Read data for the optimization"
   ]
  },
  {
   "cell_type": "markdown",
   "metadata": {},
   "source": [
    "#### Prediction angles from previous phase that we want to align with true angles"
   ]
  },
  {
   "cell_type": "code",
   "execution_count": 7,
   "metadata": {},
   "outputs": [],
   "source": [
    "# read predicted quaternions and convert them to euler angles\n",
    "quaternion_predicted = np.load(\"../data/predicted_quaternions2.npy\")\n",
    "angles_predicted = quaternion2euler(quaternion_predicted)\n",
    "\n",
    "# read true euler angles\n",
    "angles_true = np.load(\"../data/angles_true.npy\")"
   ]
  },
  {
   "cell_type": "code",
   "execution_count": 56,
   "metadata": {},
   "outputs": [],
   "source": [
    "#from cryoem.conversions import euler2quaternion, d_q, quaternion2euler\n",
    "import tensorflow as tf\n",
    "from tensorflow.keras.optimizers import Adam\n",
    "from tensorflow_graphics.geometry.transformation import quaternion\n",
    "from time import time\n",
    "import numpy as np\n",
    "import matplotlib.pyplot as plt\n",
    "import seaborn as sns; sns.set(style=\"white\", color_codes=True)\n",
    "import random\n",
    "from tensorflow_graphics.math import vector\n",
    "from itertools import product\n",
    "#from cryoem.rotation_matrices import euler2matrix, d_r\n",
    "import time\n",
    "from IPython import display as IPyDisplay\n",
    "from scipy.spatial.transform import Rotation as R\n",
    "\n",
    "\n",
    "def update_quaternion(q_L, q_R, q_predicted):\n",
    "    #q_R = euler2quaternion(a_R)\n",
    "    # quaternion multiplication is associative\n",
    "    q_predicted_rotated = quaternion.multiply(quaternion.multiply(q_L, q_predicted), q_R)\n",
    "\n",
    "    return q_predicted_rotated\n",
    "\n",
    "def loss_alignment(q_L, q_R, q_predicted, q_true):\n",
    "    #q_R = euler2quaternion(a_R)\n",
    "    q_predicted_rotated = quaternion.multiply(quaternion.multiply(q_L, q_predicted), q_R)\n",
    "\n",
    "    return tf.reduce_mean(d_q(q_true, q_predicted_rotated))\n",
    "\n",
    "\n",
    "def gradient_alignment(q_L, q_R, q_predicted, q_true):\n",
    "    with tf.GradientTape() as tape:\n",
    "        loss_value = loss_alignment(q_L, q_R, q_predicted, q_true)\n",
    "        gradient = tape.gradient(loss_value, q_L+q_R)\n",
    "        \n",
    "    return loss_value, gradient\n",
    "\n",
    "\n",
    "def training_angle_alignment(steps, batch_size, learning_rate, angles_true, angles_predicted):\n",
    "    \n",
    "    collect_data = []\n",
    "\n",
    "    optimizer = Adam(learning_rate=learning_rate)\n",
    "\n",
    "    time_start = time.time()\n",
    "\n",
    "    report = \"\"\n",
    "\n",
    "    losses = np.empty(steps)\n",
    "    angles_predicted = tf.convert_to_tensor(angles_predicted)\n",
    "\n",
    "    q_R = [tf.Variable(quaternion.normalized_random_uniform([1]))]\n",
    "    q_L = [tf.Variable(quaternion.normalized_random_uniform([1]))]\n",
    "    \n",
    "    q_predicted = tf.cast(euler2quaternion(angles_predicted), dtype=tf.float32)\n",
    "    q_true = tf.cast(euler2quaternion(angles_true), dtype=tf.float32)\n",
    "\n",
    "    for step in range(1, steps+1):\n",
    "\n",
    "        # Sample some pairs.\n",
    "        idx = list(np.random.choice(range(len(angles_predicted)), size=batch_size))\n",
    "\n",
    "        # Compute distances between projections\n",
    "        qt = [q_true[i]      for i in idx]\n",
    "        qp = [q_predicted[i] for i in idx]\n",
    "\n",
    "        # Optimize by gradient descent.\n",
    "        losses[step-1], gradients = gradient_alignment(q_L, q_R, qp, qt)\n",
    "        optimizer.apply_gradients(zip(gradients, q_L+q_R))\n",
    "\n",
    "        update_lr = 300\n",
    "        if step>update_lr and step%update_lr==0 and losses[step-1]-losses[step-1-update_lr+100] < 0.1:\n",
    "            learning_rate *= 0.1\n",
    "\n",
    "        # Visualize progress periodically\n",
    "        if step % 10 == 0:\n",
    "            qu = update_quaternion(q_L, q_R, q_predicted)\n",
    "\n",
    "            collect_data.append(qu.numpy())\n",
    "\n",
    "            plt.close();\n",
    "            sns.set(style=\"white\", color_codes=True)\n",
    "            sns.set(style=\"whitegrid\")\n",
    "\n",
    "            fig, axs = plt.subplots(1, 3, figsize=(24,7))\n",
    "\n",
    "            # Distance count subplot (batches)\n",
    "            qpr = update_quaternion(q_L, q_R, qp)\n",
    "            d1 = d_q(qpr, qt)\n",
    "            axs[0].set_xlim(0, np.pi)\n",
    "            axs[0].set_title(f\"BATCHES (size={len(qp)}): [{step}/{steps}] Distances between true and predicted angles \\nMEAN={np.mean(d1):.2e} STD={np.std(d1):.2e}\")\n",
    "            s = sns.distplot(d1, kde=False, bins=100, ax=axs[0], axlabel=\"Distance [rad]\", color=\"r\")\n",
    "            max_count = int(max([h.get_height() for h in s.patches]))\n",
    "            axs[0].plot([np.mean(d1)]*max_count, np.arange(0, max_count,1), c=\"r\", lw=4)\n",
    "\n",
    "            # Optimization loss subplot\n",
    "            axs[1].plot(np.linspace(0, time.time()-time_start, step), losses[:step], marker=\"o\", lw=1, markersize=3)\n",
    "            axs[1].set_xlabel('time [s]')\n",
    "            axs[1].set_ylabel('loss');\n",
    "            axs[1].set_title(f\"Angle alignment optimization \\nLOSS={np.mean(losses[step-10:step]):.2e} LR={learning_rate:.2e}\")\n",
    "\n",
    "            # Distance count subplot (full)\n",
    "            q_predicted_rot = update_quaternion(q_L, q_R, q_predicted)\n",
    "            d2 = d_q(q_predicted_rot, q_true)\n",
    "            axs[2].set_xlim(0, np.pi)\n",
    "            axs[2].set_title(f\"FULL: [{step}/{steps}] Distances between true and predicted angles\\nMEAN={np.mean(d2):.2e} ({np.degrees(np.mean(d2)):.2e} deg) STD={np.std(d2):.2e}\\nMEDIAN={np.median(d2):.2e} ({np.degrees(np.median(d2)):.2e} deg)\")\n",
    "            s = sns.distplot(d2, kde=False, bins=100, ax=axs[2], axlabel=\"Distance [rad]\", color=\"r\")\n",
    "            max_count = int(max([h.get_height() for h in s.patches]))\n",
    "            axs[2].plot([np.mean(d2)]*max_count, np.arange(0, max_count,1), c=\"r\", lw=4)\n",
    "\n",
    "\n",
    "            IPyDisplay.clear_output(wait=True)\n",
    "            IPyDisplay.display(plt.gcf())\n",
    "            plt.close();\n",
    "            time.sleep(1.0)\n",
    "\n",
    "\n",
    "        # Periodically report progress.\n",
    "        if ((step % (steps//10)) == 0) or (step == steps):\n",
    "            time_elapsed = time.time() - time_start\n",
    "            report += f'step {step}/{steps} ({time_elapsed:.0f}s): loss = {np.mean(losses[step-steps//10:step-1]):.2e}\\n'\n",
    "\n",
    "        if step >= 101 and np.mean(losses[step-101:step-1]) < 1e-3:\n",
    "            break;\n",
    "\n",
    "    print(report)\n",
    "    return q_L, q_R, losses, np.array(collect_data)"
   ]
  },
  {
   "cell_type": "code",
   "execution_count": 57,
   "metadata": {},
   "outputs": [
    {
     "data": {
      "image/png": "[encoded data removed]",
      "text/plain": [
       "<Figure size 1728x504 with 3 Axes>"
      ]
     },
     "metadata": {},
     "output_type": "display_data"
    },
    {
     "name": "stdout",
     "output_type": "stream",
     "text": [
      "step 30/300 (7s): loss = 1.79e+00\n",
      "step 60/300 (13s): loss = 6.82e-01\n",
      "step 90/300 (20s): loss = 7.09e-02\n",
      "step 120/300 (27s): loss = 9.66e-03\n",
      "step 150/300 (34s): loss = 4.68e-03\n",
      "step 180/300 (41s): loss = 5.20e-03\n",
      "step 210/300 (47s): loss = 4.31e-03\n",
      "step 240/300 (54s): loss = 4.01e-03\n",
      "step 270/300 (61s): loss = 3.83e-03\n",
      "step 300/300 (67s): loss = 3.74e-03\n",
      "\n"
     ]
    }
   ],
   "source": [
    "q_L, q_R, loss, collect_data  = training_angle_alignment(steps=300, \n",
    "                                                 batch_size=256, \n",
    "                                                 learning_rate=0.01, \n",
    "                                                 angles_true=angles_true, \n",
    "                                                 angles_predicted=angles_predicted)"
   ]
  },
  {
   "cell_type": "code",
   "execution_count": 59,
   "metadata": {},
   "outputs": [
    {
     "data": {
      "text/plain": [
       "array([[0.03975643, 0.1025083 , 0.5115183 , 0.8035508 ]], dtype=float32)"
      ]
     },
     "execution_count": 59,
     "metadata": {},
     "output_type": "execute_result"
    }
   ],
   "source": [
    "q_L[0].numpy()"
   ]
  },
  {
   "cell_type": "code",
   "execution_count": 60,
   "metadata": {
    "scrolled": false
   },
   "outputs": [
    {
     "data": {
      "text/plain": [
       "array([[ 0.5873662 , -0.35293624, -0.96615905,  0.24834652]],\n",
       "      dtype=float32)"
      ]
     },
     "execution_count": 60,
     "metadata": {},
     "output_type": "execute_result"
    }
   ],
   "source": [
    "q_R[0].numpy()"
   ]
  },
  {
   "cell_type": "markdown",
   "metadata": {},
   "source": [
    "#### Conclusion:\n",
    "We can see that method manages to converge. However, with the current implementation, we would be dealing with optimization of a 8-dimensional vector (4-dimensional vector for each quaternion) instead of 6-dimensional one that we have in case of working with a 4D rotation matrix. Of course, this can be modified to use a 6-dimensional vector (3 angles that will be converted to corresponding 4-dim quaternion)."
   ]
  }
 ],
 "metadata": {
  "kernelspec": {
   "display_name": "Python 3",
   "language": "python",
   "name": "python3"
  },
  "language_info": {
   "codemirror_mode": {
    "name": "ipython",
    "version": 3
   },
   "file_extension": ".py",
   "mimetype": "text/x-python",
   "name": "python",
   "nbconvert_exporter": "python",
   "pygments_lexer": "ipython3",
   "version": "3.6.9"
  }
 },
 "nbformat": 4,
 "nbformat_minor": 2
}
