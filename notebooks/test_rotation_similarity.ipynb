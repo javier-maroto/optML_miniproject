{
 "cells": [
  {
   "cell_type": "code",
   "execution_count": 1,
   "metadata": {},
   "outputs": [],
   "source": [
    "import numpy as np"
   ]
  },
  {
   "cell_type": "markdown",
   "metadata": {},
   "source": [
    "![](https://i.imgur.com/jabkxNt.jpg)"
   ]
  },
  {
   "cell_type": "code",
   "execution_count": 2,
   "metadata": {},
   "outputs": [],
   "source": [
    "R1 = [7.46021406, 2.58905189, 5.9320024,  3.06165002, 2.56025736, 3.82164765]\n",
    "R2 = [1.17798222, 5.7311303,  3.49258011, 6.36339684, 5.70202671, 3.82134471]\n",
    "R3 = [-1.96368164,  3.69437634,  3.492642 ,   3.22182489, -0.58032233,  3.82173555]"
   ]
  },
  {
   "cell_type": "code",
   "execution_count": 3,
   "metadata": {},
   "outputs": [],
   "source": [
    "R4 = [0, 0, 0, 0, 0, 0]\n",
    "R5 = [0, 2*np.pi, np.pi, 0, np.pi, np.pi]\n",
    "R6 = [-np.pi, -np.pi, -np.pi, 0, 0, 0]"
   ]
  },
  {
   "cell_type": "code",
   "execution_count": 19,
   "metadata": {},
   "outputs": [
    {
     "data": {
      "text/plain": [
       "float"
      ]
     },
     "execution_count": 19,
     "metadata": {},
     "output_type": "execute_result"
    }
   ],
   "source": [
    "type(np.pi)"
   ]
  },
  {
   "cell_type": "code",
   "execution_count": 20,
   "metadata": {},
   "outputs": [
    {
     "data": {
      "text/plain": [
       "float"
      ]
     },
     "execution_count": 20,
     "metadata": {},
     "output_type": "execute_result"
    }
   ],
   "source": [
    "type(R1[0])"
   ]
  },
  {
   "cell_type": "code",
   "execution_count": 216,
   "metadata": {},
   "outputs": [],
   "source": [
    "def rotations_equal(R1, R2):\n",
    "    tol = 1e-2\n",
    "    \n",
    "    R1 = list(map(lambda x: x%(2*np.pi), R1))\n",
    "    R2 = list(map(lambda x: x%(2*np.pi), R2))\n",
    "    \n",
    "    r = lambda i: R1[i]+R2[i]-2*(np.allclose(np.abs(R1[i]-R2[i])%np.pi, 0.0, atol=tol) or np.allclose(np.abs(R1[i]-R2[i])%np.pi, np.pi, atol=tol))*R2[i] \n",
    "\n",
    "    rd = lambda i, j: (r(i)+r(j))%(2*np.pi) if not np.allclose((r(i)+r(j))%(2*np.pi), 2*np.pi, atol=tol) else \\\n",
    "                      (2*np.pi)%(r(i)+r(j))\n",
    "\n",
    "    return np.allclose((rd(0, 5) + rd(1, 4) + rd(2, 3))%(3*np.round(np.pi,2)),     0.0, atol=tol) or \\\n",
    "           np.allclose((rd(0, 5) + rd(1, 4) + rd(2, 3))%(3*np.round(np.pi,2)), 3*np.pi, atol=tol) "
   ]
  },
  {
   "cell_type": "code",
   "execution_count": 217,
   "metadata": {},
   "outputs": [],
   "source": [
    "# def rotations_equal(R1, R2):\n",
    "#     R1 = list(map(lambda x: x%(2*np.pi), R1))\n",
    "#     R2 = list(map(lambda x: x%(2*np.pi), R2))\n",
    "    \n",
    "#     r = lambda i: R1[i]+R2[i]-2*(np.round(R1[i]-R2[i], 2)%np.round(np.pi, 2) == 0)*R2[i] \n",
    "\n",
    "#         if (np.round(R1[i]-R2[i], 2)%np.round(np.pi, 2) == 0):\n",
    "#              R1[i] - R2[i]\n",
    "#         else:\n",
    "#             R1[i] + R2[i]\n",
    "    \n",
    "#     rd1 = np.round(np.round(r(0)+r(5), 2)%np.round(2*np.pi, 2), 2)\n",
    "#     rd2 = np.round(np.round(r(1)+r(4), 2)%np.round(2*np.pi, 2), 2)\n",
    "#     rd3 = np.round(np.round(r(2)+r(3), 2)%np.round(2*np.pi, 2), 2)\n",
    "    \n",
    "#     r = (rd1+rd2+rd3)%(3*np.round(np.pi,2))\n",
    "\n",
    "#     return round(r, 1) == 0"
   ]
  },
  {
   "cell_type": "code",
   "execution_count": 218,
   "metadata": {},
   "outputs": [
    {
     "data": {
      "text/plain": [
       "(True, True, True)"
      ]
     },
     "execution_count": 218,
     "metadata": {},
     "output_type": "execute_result"
    }
   ],
   "source": [
    "rotations_equal(R1, R2), rotations_equal(R2, R3), rotations_equal(R1, R3) #== (True, True, True)"
   ]
  },
  {
   "cell_type": "code",
   "execution_count": 219,
   "metadata": {},
   "outputs": [
    {
     "data": {
      "text/plain": [
       "(True, True, True)"
      ]
     },
     "execution_count": 219,
     "metadata": {},
     "output_type": "execute_result"
    }
   ],
   "source": [
    "rotations_equal(R4, R5), rotations_equal(R4, R6), rotations_equal(R5, R6) #== (True, True, True)"
   ]
  },
  {
   "cell_type": "code",
   "execution_count": 220,
   "metadata": {},
   "outputs": [
    {
     "data": {
      "text/plain": [
       "(False, False, False)"
      ]
     },
     "execution_count": 220,
     "metadata": {},
     "output_type": "execute_result"
    }
   ],
   "source": [
    "rotations_equal(R1, R5), rotations_equal(R1, R6), rotations_equal(R2, R4) #== (False, False, False)"
   ]
  },
  {
   "cell_type": "code",
   "execution_count": 221,
   "metadata": {},
   "outputs": [
    {
     "data": {
      "text/plain": [
       "(False, False, False)"
      ]
     },
     "execution_count": 221,
     "metadata": {},
     "output_type": "execute_result"
    }
   ],
   "source": [
    "rotations_equal(R1, R4), rotations_equal(R2, R4), rotations_equal(R2, R5) #== (False, False, False)"
   ]
  },
  {
   "cell_type": "code",
   "execution_count": 222,
   "metadata": {},
   "outputs": [],
   "source": [
    "Rd1 = [ 2.55273739,  2.54278743, -0.31850297, -0.41680098,  3.52962884, -0.36112232]\n",
    "Rd2 = [ 2.92116975,  2.550321  , -0.28551178,  2.68878358, -0.40685398, 2.77110005]\n",
    "Rd3 = [ 2.80438687,  0.66014735,  0.05556158,  2.9211356 ,  3.7135224 , 0.21344568]"
   ]
  },
  {
   "cell_type": "code",
   "execution_count": 223,
   "metadata": {},
   "outputs": [
    {
     "data": {
      "text/plain": [
       "(False, False, False)"
      ]
     },
     "execution_count": 223,
     "metadata": {},
     "output_type": "execute_result"
    }
   ],
   "source": [
    "rotations_equal(Rd1, Rd2), rotations_equal(Rd2, Rd3), rotations_equal(Rd1, Rd3) #== (True, True, True)"
   ]
  },
  {
   "cell_type": "markdown",
   "metadata": {},
   "source": [
    "---"
   ]
  },
  {
   "cell_type": "markdown",
   "metadata": {},
   "source": [
    "## Test with Alignment methods"
   ]
  },
  {
   "cell_type": "code",
   "execution_count": 1,
   "metadata": {},
   "outputs": [
    {
     "name": "stderr",
     "output_type": "stream",
     "text": [
      "Warning: To use the exr data format, please install the OpenEXR package following the instructions detailed in the README at github.com/tensorflow/graphics.\n",
      "Warning: To use the threejs_vizualization, please install the colabtools package following the instructions detailed in the README at github.com/tensorflow/graphics.\n"
     ]
    }
   ],
   "source": [
    "import sys\n",
    "sys.path.append(\"..\") \n",
    "from oml.alignment import update_quaternion\n",
    "from oml.angles import quaternion2euler, euler2quaternion"
   ]
  },
  {
   "cell_type": "code",
   "execution_count": 10,
   "metadata": {},
   "outputs": [
    {
     "data": {
      "text/plain": [
       "array([[1., 2., 3.]])"
      ]
     },
     "execution_count": 10,
     "metadata": {},
     "output_type": "execute_result"
    }
   ],
   "source": [
    "ang = [1.0, 2.0, 3.0]\n",
    "\n",
    "rotation = [np.array([0, 2*np.pi, np.pi, 0, np.pi, np.pi], dtype=np.float64)]\n",
    "\n",
    "qp = euler2quaternion(np.array([ang], dtype=np.float64))\n",
    "\n",
    "qpa = update_quaternion(m=[1.0,1.0,1.0,1.0], \n",
    "                        a_R=rotation, \n",
    "                        q_predicted=qp)\n",
    "\n",
    "angles_predicted = quaternion2euler(qpa).numpy()\n",
    "\n",
    "angles_predicted"
   ]
  },
  {
   "cell_type": "code",
   "execution_count": 11,
   "metadata": {},
   "outputs": [
    {
     "data": {
      "text/plain": [
       "array([[1., 2., 3.]])"
      ]
     },
     "execution_count": 11,
     "metadata": {},
     "output_type": "execute_result"
    }
   ],
   "source": [
    "ang = [1.0, 2.0, 3.0]\n",
    "\n",
    "rotation = [np.array([np.pi, np.pi, np.pi, np.pi, np.pi, np.pi], dtype=np.float64)]\n",
    "\n",
    "qp = euler2quaternion(np.array([ang], dtype=np.float64))\n",
    "\n",
    "qpa = update_quaternion(m=[1.0,1.0,1.0,1.0], \n",
    "                        a_R=rotation, \n",
    "                        q_predicted=qp)\n",
    "\n",
    "angles_predicted = quaternion2euler(qpa).numpy()\n",
    "\n",
    "angles_predicted"
   ]
  },
  {
   "cell_type": "code",
   "execution_count": 12,
   "metadata": {},
   "outputs": [
    {
     "data": {
      "text/plain": [
       "array([[ 2.29822589,  2.94827061, -2.48492839]])"
      ]
     },
     "execution_count": 12,
     "metadata": {},
     "output_type": "execute_result"
    }
   ],
   "source": [
    "ang = [1.0, 2.0, 3.0]\n",
    "\n",
    "rotation = [np.array(R1, dtype=np.float64)]\n",
    "\n",
    "qp = euler2quaternion(np.array([ang], dtype=np.float64))\n",
    "\n",
    "qpa = update_quaternion(m=[1.0,1.0,1.0,1.0], \n",
    "                        a_R=rotation, \n",
    "                        q_predicted=qp)\n",
    "\n",
    "angles_predicted = quaternion2euler(qpa).numpy()\n",
    "\n",
    "angles_predicted"
   ]
  },
  {
   "cell_type": "code",
   "execution_count": 13,
   "metadata": {},
   "outputs": [
    {
     "data": {
      "text/plain": [
       "array([[ 2.29429832,  2.94822796, -2.49014507]])"
      ]
     },
     "execution_count": 13,
     "metadata": {},
     "output_type": "execute_result"
    }
   ],
   "source": [
    "ang = [1.0, 2.0, 3.0]\n",
    "\n",
    "rotation = [np.array(R2, dtype=np.float64)]\n",
    "\n",
    "qp = euler2quaternion(np.array([ang], dtype=np.float64))\n",
    "\n",
    "qpa = update_quaternion(m=[1.0,1.0,1.0,1.0], \n",
    "                        a_R=rotation, \n",
    "                        q_predicted=qp)\n",
    "\n",
    "angles_predicted = quaternion2euler(qpa).numpy()\n",
    "\n",
    "angles_predicted"
   ]
  },
  {
   "cell_type": "code",
   "execution_count": 14,
   "metadata": {},
   "outputs": [
    {
     "data": {
      "text/plain": [
       "array([[ 2.30144463,  2.94862414, -2.48245127]])"
      ]
     },
     "execution_count": 14,
     "metadata": {},
     "output_type": "execute_result"
    }
   ],
   "source": [
    "ang = [1.0, 2.0, 3.0]\n",
    "\n",
    "rotation = [np.array(R3, dtype=np.float64)]\n",
    "\n",
    "qp = euler2quaternion(np.array([ang], dtype=np.float64))\n",
    "\n",
    "qpa = update_quaternion(m=[1.0,1.0,1.0,1.0], \n",
    "                        a_R=rotation, \n",
    "                        q_predicted=qp)\n",
    "\n",
    "angles_predicted = quaternion2euler(qpa).numpy()\n",
    "\n",
    "angles_predicted"
   ]
  },
  {
   "cell_type": "code",
   "execution_count": null,
   "metadata": {},
   "outputs": [],
   "source": []
  }
 ],
 "metadata": {
  "kernelspec": {
   "display_name": "Python 3",
   "language": "python",
   "name": "python3"
  },
  "language_info": {
   "codemirror_mode": {
    "name": "ipython",
    "version": 3
   },
   "file_extension": ".py",
   "mimetype": "text/x-python",
   "name": "python",
   "nbconvert_exporter": "python",
   "pygments_lexer": "ipython3",
   "version": "3.6.8"
  }
 },
 "nbformat": 4,
 "nbformat_minor": 2
}
