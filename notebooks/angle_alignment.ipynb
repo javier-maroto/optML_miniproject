{
 "cells": [
  {
   "cell_type": "code",
   "execution_count": 1,
   "metadata": {},
   "outputs": [],
   "source": [
    "from numba import cuda\n",
    "cuda.select_device(0)\n",
    "cuda.close()"
   ]
  },
  {
   "cell_type": "code",
   "execution_count": 2,
   "metadata": {},
   "outputs": [
    {
     "name": "stderr",
     "output_type": "stream",
     "text": [
      "Warning: To use the exr data format, please install the OpenEXR package following the instructions detailed in the README at github.com/tensorflow/graphics.\n",
      "Warning: To use the threejs_vizualization, please install the colabtools package following the instructions detailed in the README at github.com/tensorflow/graphics.\n"
     ]
    }
   ],
   "source": [
    "import os\n",
    "import h5py\n",
    "import numpy as np\n",
    "import matplotlib.pyplot as plt\n",
    "from IPython.display import Image\n",
    "from IPython import display as IPyDisplay\n",
    "import ipyvolume as ipv\n",
    "import tensorflow as tf\n",
    "from tensorflow.keras.optimizers import Adam\n",
    "from tensorflow_graphics.geometry.transformation import quaternion\n",
    "import seaborn as sns; sns.set(style=\"white\", color_codes=True)\n",
    "import random\n",
    "from tensorflow_graphics.math import vector\n",
    "from itertools import product\n",
    "import time\n",
    "from tensorflow_graphics.util import safe_ops, asserts, shape\n",
    "import math\n",
    "from scipy.spatial.transform import Rotation as R"
   ]
  },
  {
   "cell_type": "code",
   "execution_count": 3,
   "metadata": {},
   "outputs": [
    {
     "name": "stdout",
     "output_type": "stream",
     "text": [
      "[name: \"/device:CPU:0\"\n",
      "device_type: \"CPU\"\n",
      "memory_limit: 268435456\n",
      "locality {\n",
      "}\n",
      "incarnation: 4361349311534960274\n",
      ", name: \"/device:XLA_CPU:0\"\n",
      "device_type: \"XLA_CPU\"\n",
      "memory_limit: 17179869184\n",
      "locality {\n",
      "}\n",
      "incarnation: 16428144969917614852\n",
      "physical_device_desc: \"device: XLA_CPU device\"\n",
      ", name: \"/device:XLA_GPU:0\"\n",
      "device_type: \"XLA_GPU\"\n",
      "memory_limit: 17179869184\n",
      "locality {\n",
      "}\n",
      "incarnation: 18228028512500991451\n",
      "physical_device_desc: \"device: XLA_GPU device\"\n",
      ", name: \"/device:GPU:0\"\n",
      "device_type: \"GPU\"\n",
      "memory_limit: 3326083072\n",
      "locality {\n",
      "  bus_id: 1\n",
      "  links {\n",
      "  }\n",
      "}\n",
      "incarnation: 2766757688879801315\n",
      "physical_device_desc: \"device: 0, name: GeForce GTX 1050 Ti with Max-Q Design, pci bus id: 0000:01:00.0, compute capability: 6.1\"\n",
      "]\n"
     ]
    }
   ],
   "source": [
    "from tensorflow.python.client import device_lib \n",
    "print(device_lib.list_local_devices())"
   ]
  },
  {
   "cell_type": "markdown",
   "metadata": {},
   "source": [
    "# Code for Conversions"
   ]
  },
  {
   "cell_type": "markdown",
   "metadata": {},
   "source": [
    "- Euler Angles (Z-Y-Z axes rotations) -> Quaternion\n",
    "\n",
    "- Quaternion -> Euler Angles\n",
    "\n",
    "- d_q = distance between 2 quaternions"
   ]
  },
  {
   "cell_type": "code",
   "execution_count": 4,
   "metadata": {},
   "outputs": [],
   "source": [
    "def euler2quaternion(angles):\n",
    "    \"\"\"Convert Euler angles to quaternion\n",
    "    \n",
    "    Parameters\n",
    "    ----------\n",
    "    angles: np.ndarray\n",
    "        Array of shape (N, 3), where 3 are the 3 anles of rotation around Z-Y-Z axes respectivelly.\n",
    "        \n",
    "    Returns\n",
    "    -------\n",
    "    quaternion: np.ndarray\n",
    "        Array of shape (N, 4), where 4 is the 1 real part of quaternion and 3 imaginary parts of quaternion.\n",
    "    \"\"\"\n",
    "    angles = tf.convert_to_tensor(value=angles)\n",
    "\n",
    "    shape.check_static(tensor=angles, tensor_name=\"angles\", has_dim_equals=(-1, 3))\n",
    "    \n",
    "    theta_z1, theta_y, theta_z0 = tf.unstack(angles, axis=-1)\n",
    "\n",
    "    # create rotation matrix\n",
    "    c1 = tf.cos(theta_z1)\n",
    "    c2 = tf.cos(theta_y)\n",
    "    c3 = tf.cos(theta_z0)\n",
    "\n",
    "    s1 = tf.sin(theta_z1)\n",
    "    s2 = tf.sin(theta_y)\n",
    "    s3 = tf.sin(theta_z0)\n",
    "\n",
    "    # PROJECTIONS CODE\n",
    "    r00 = c1*c2*c3-s1*s3\n",
    "    r01 = -(c1*s3+c2*c3*s1) ##\n",
    "    r02 = -(-c3*s2)  ##\n",
    "    r10 = -(-c3*s1-c1*c2*s3) ##\n",
    "    r11 = c1*c3-c2*s1*s3\n",
    "    r12 = s2*s3\n",
    "    r20 = -(c1*s2) ##\n",
    "    r21 = s1*s2 \n",
    "    r22 = c2\n",
    "\n",
    "    w2 = 1/4*(1+ r00 + r11 + r22)\n",
    "    w2_is_pos = tf.greater(w2, 0)\n",
    "    \n",
    "    x2 = -1/2*(r11+r22)\n",
    "    x2_is_pos = tf.greater(x2, 0)\n",
    "    \n",
    "    y2 = 1/2*(1-r22)\n",
    "    y2_is_pos = tf.greater(y2, 0)\n",
    "    \n",
    "    w = tf.compat.v1.where(w2_is_pos, tf.sqrt(w2), tf.zeros_like(w2))\n",
    "    x = tf.compat.v1.where(w2_is_pos, 1/(4*w)*(r21-r12),\n",
    "                                        tf.compat.v1.where(x2_is_pos, tf.sqrt(x2), tf.zeros_like(x2)))\n",
    "    y = tf.compat.v1.where(w2_is_pos, 1/(4*w)*(r02-r20),\n",
    "                                        tf.compat.v1.where(x2_is_pos, r01/(2*x), \n",
    "                                                                    tf.compat.v1.where(y2_is_pos, tf.sqrt(y2), tf.zeros_like(y2))))\n",
    "    \n",
    "    z = tf.compat.v1.where(w2_is_pos, 1/(4*w)*(r10-r01), \n",
    "                                        tf.compat.v1.where(x2_is_pos, r02/(2*x), \n",
    "                                                                    tf.compat.v1.where(y2_is_pos, r12/(2*y), tf.ones_like(y2))))\n",
    "    \n",
    "    return tf.stack((x, y, z, w), axis=-1)\n",
    "\n",
    "def quaternion2euler(quaternions):\n",
    "    \"\"\" Convert quaternion to Euler angles\n",
    "    \n",
    "    Parameters\n",
    "    ----------\n",
    "    quaternions: np.ndarray\n",
    "        The array of shape (N, 4), where 4 is the 1 real part of quaternion and 3 imaginary parts of quaternion.\n",
    "    \n",
    "    Returns\n",
    "    -------\n",
    "    angles: np.ndarray\n",
    "        The array of shape (N, 3), where 3 are the 3 anles of rotation around Z-Y-Z axes respectivelly.\n",
    "    \"\"\"\n",
    "    def general_case(r02, r12, r20, r21, r22, eps_addition):\n",
    "        \"\"\"Handles the general case.\"\"\"\n",
    "        theta_y = tf.acos(r22)\n",
    "        #sign_sin_theta_y = safe_ops.nonzero_sign(tf.sin(theta_y))\n",
    "        \n",
    "        r02 = safe_ops.nonzero_sign(r02) * eps_addition + r02\n",
    "        r22 = safe_ops.nonzero_sign(r22) * eps_addition + r22\n",
    "        \n",
    "        theta_z0 = tf.atan2(r12, r02)\n",
    "        theta_z1 = tf.atan2(r21, -r20)\n",
    "        return tf.stack((theta_z1, theta_y, theta_z0), axis=-1)\n",
    "\n",
    "    def gimbal_lock(r22, r11, r10, eps_addition):\n",
    "        \"\"\"Handles Gimbal locks.\n",
    "        It is gimbal when r22 is -1 or 1\"\"\"\n",
    "        sign_r22 = safe_ops.nonzero_sign(r22)\n",
    "        r11 = safe_ops.nonzero_sign(r11) * eps_addition + r11\n",
    "        \n",
    "        theta_z0 = tf.atan2(sign_r22 * r10, r11)\n",
    "        \n",
    "        theta_y = tf.constant(math.pi/2.0, dtype=r20.dtype) - sign_r22 * tf.constant(math.pi/2.0, dtype=r20.dtype)\n",
    "        theta_z1 = tf.zeros_like(theta_z0)\n",
    "        angles = tf.stack((theta_z1, theta_y, theta_z0), axis=-1)\n",
    "        return angles\n",
    "\n",
    "    with tf.compat.v1.name_scope(None, \"euler_from_quaternion\", [quaternions]):\n",
    "        quaternions = tf.convert_to_tensor(value=quaternions)\n",
    "\n",
    "        shape.check_static(\n",
    "            tensor=quaternions,\n",
    "            tensor_name=\"quaternions\",\n",
    "            has_dim_equals=(-1, 4))\n",
    "\n",
    "        x, y, z, w = tf.unstack(quaternions, axis=-1)\n",
    "        tx = safe_ops.safe_shrink(2.0 * x, -2.0, 2.0, True)\n",
    "        ty = safe_ops.safe_shrink(2.0 * y, -2.0, 2.0, True)\n",
    "        tz = safe_ops.safe_shrink(2.0 * z, -2.0, 2.0, True)\n",
    "        twx = tx * w\n",
    "        twy = ty * w\n",
    "        twz = tz * w\n",
    "        txx = tx * x\n",
    "        txy = ty * x\n",
    "        txz = tz * x\n",
    "        tyy = ty * y\n",
    "        tyz = tz * y\n",
    "        tzz = tz * z\n",
    "\n",
    "        # The following is clipped due to numerical instabilities that can take some\n",
    "        # enties outside the [-1;1] range.\n",
    "        \n",
    "        r00 = safe_ops.safe_shrink(1.0 - (tyy + tzz), -1.0, 1.0, True)\n",
    "        r01 = safe_ops.safe_shrink(txy - twz, -1.0, 1.0, True)\n",
    "        r02 = safe_ops.safe_shrink(txz + twy, -1.0, 1.0, True)\n",
    "\n",
    "        r10 = safe_ops.safe_shrink(txy + twz, -1.0, 1.0, True)\n",
    "        r11 = safe_ops.safe_shrink(1.0 - (txx + tzz), -1.0, 1.0, True)\n",
    "        r12 = safe_ops.safe_shrink(tyz - twx, -1.0, 1.0, True)\n",
    "\n",
    "        r20 = safe_ops.safe_shrink(txz - twy, -1.0, 1.0, True)\n",
    "        r21 = safe_ops.safe_shrink(tyz + twx, -1.0, 1.0, True)\n",
    "        r22 = safe_ops.safe_shrink(1.0 - (txx + tyy), -1.0, 1.0, True)\n",
    "        \n",
    "        eps_addition = asserts.select_eps_for_addition(quaternions.dtype)\n",
    "        general_solution = general_case(r02, r12, r20, r21, r22, eps_addition)\n",
    "        gimbal_solution = gimbal_lock(r22, r11, r10, eps_addition)\n",
    "        \n",
    "        # The general solution is unstable close to the Gimbal lock, and the gimbal\n",
    "        # solution is not toooff in these cases.\n",
    "        # Check if r22 is 1 or -1\n",
    "        is_gimbal = tf.less(tf.abs(tf.abs(r22) - 1.0), 1.0e-6)\n",
    "        gimbal_mask = tf.stack((is_gimbal, is_gimbal, is_gimbal), axis=-1)\n",
    "        \n",
    "        return tf.compat.v1.where(gimbal_mask, gimbal_solution, general_solution)              \n",
    "    \n",
    "def d_q(q1, q2):\n",
    "    \"\"\"Distance between 2 quaternions\n",
    "    \n",
    "    The quaternion distance takes values between [0, pi]\n",
    "    \n",
    "    Parameters\n",
    "    ----------\n",
    "    q1: tf.tensor/np.ndarray\n",
    "        1st quaternion\n",
    "    q2: tf.tensor/np.ndarray\n",
    "        2nd quaternion\n",
    "    \n",
    "    Returns\n",
    "    -------\n",
    "    : distnace between these 2 quaternions\n",
    "    \n",
    "    \"\"\"\n",
    "    q1 = tf.cast(tf.convert_to_tensor(value=q1), dtype=tf.float64)\n",
    "    q2 = tf.cast(tf.convert_to_tensor(value=q2), dtype=tf.float64)\n",
    "    \n",
    "    shape.check_static(tensor=q1, tensor_name=\"quaternion1\", has_dim_equals=(-1, 4))\n",
    "    shape.check_static(tensor=q2, tensor_name=\"quaternion2\", has_dim_equals=(-1, 4))\n",
    "\n",
    "    q1 = quaternion.normalize(q1)\n",
    "    q2 = quaternion.normalize(q2)\n",
    "    \n",
    "    dot_product = vector.dot(q1, q2, keepdims=False)\n",
    "    \n",
    "    # Ensure dot product is in range [-1. 1].\n",
    "    eps_dot_prod = 1.8 * asserts.select_eps_for_addition(dot_product.dtype)\n",
    "    dot_product = safe_ops.safe_shrink(dot_product, -1, 1, open_bounds=False, eps=eps_dot_prod)\n",
    "\n",
    "    return 2.0 * tf.acos(tf.abs(dot_product)) \n",
    "\n",
    "def distance_difference(angles_predicted, angles_true):\n",
    "    \"\"\"Average quaternion distance between true and predicted quaterniosn\"\"\"\n",
    "    q_predicted = euler2quaternion(angles_predicted)\n",
    "    q_true = euler2quaternion(angles_true)\n",
    "    qd = np.mean(d_q(q_predicted, q_true).numpy())\n",
    "    print(f\"Mean `quaternion` distance between true and predicted values: {qd:.3f} rad ({np.degrees(qd):.3f} degrees)\")\n",
    "\n",
    "    return qd"
   ]
  },
  {
   "cell_type": "code",
   "execution_count": 5,
   "metadata": {},
   "outputs": [],
   "source": [
    "# def euler2quaternion(angles, transposed=True):\n",
    "#     return R.from_euler('ZYZ', angles).as_quat()\n",
    "\n",
    "\n",
    "# def quaternion2euler(quaternions, transposed=True):\n",
    "#     return R.from_quat(quaternions).as_euler(\"ZYZ\")         \n",
    "    \n",
    "# def d_q(q1, q2):\n",
    "#     \"\"\"Distance between 2 quaternions\n",
    "    \n",
    "#     The quaternion distance takes values between [0, pi]\n",
    "    \n",
    "#     Parameters\n",
    "#     ----------\n",
    "#     q1: tf.tensor/np.ndarray\n",
    "#         1st quaternion\n",
    "#     q2: tf.tensor/np.ndarray\n",
    "#         2nd quaternion\n",
    "    \n",
    "#     Returns\n",
    "#     -------\n",
    "#     : distnace between these 2 quaternions\n",
    "    \n",
    "#     \"\"\"\n",
    "#     q1 = tf.cast(tf.convert_to_tensor(value=q1), dtype=tf.float64)\n",
    "#     q2 = tf.cast(tf.convert_to_tensor(value=q2), dtype=tf.float64)\n",
    "    \n",
    "#     shape.check_static(tensor=q1, tensor_name=\"quaternion1\", has_dim_equals=(-1, 4))\n",
    "#     shape.check_static(tensor=q2, tensor_name=\"quaternion2\", has_dim_equals=(-1, 4))\n",
    "\n",
    "#     q1 = quaternion.normalize(q1)\n",
    "#     q2 = quaternion.normalize(q2)\n",
    "    \n",
    "#     dot_product = vector.dot(q1, q2, keepdims=False)\n",
    "    \n",
    "#     # Ensure dot product is in range [-1. 1].\n",
    "#     eps_dot_prod = 1.8 * asserts.select_eps_for_addition(dot_product.dtype)\n",
    "#     dot_product = safe_ops.safe_shrink(dot_product, -1, 1, open_bounds=False, eps=eps_dot_prod)\n",
    "\n",
    "#     return 2.0 * tf.acos(tf.abs(dot_product)) \n",
    "\n",
    "# def distance_difference(angles_predicted, angles_true):\n",
    "#     \"\"\"Average quaternion distance between true and predicted quaterniosn\"\"\"\n",
    "#     q_predicted = euler2quaternion(angles_predicted)\n",
    "#     q_true = euler2quaternion(angles_true)\n",
    "#     qd = np.mean(d_q(q_predicted, q_true).numpy())\n",
    "#     print(f\"Mean `quaternion` distance between true and predicted values: {qd:.3f} rad ({np.degrees(qd):.3f} degrees)\")\n",
    "\n",
    "#     return qd"
   ]
  },
  {
   "cell_type": "markdown",
   "metadata": {},
   "source": [
    "# Code for Optimization "
   ]
  },
  {
   "cell_type": "markdown",
   "metadata": {},
   "source": [
    "\\begin{equation}\n",
    "\\label{eq:phase1}\n",
    "\\operatorname*{min}_{R  \\in SO(4), m \\in \\{-1,1\\}} \\frac{1}{n} \\sum_{i=1} d_q(q_i, R \\begin{bmatrix}\n",
    "m & 0\\\\\n",
    "0 & I\n",
    "\\end{bmatrix} \\hat{q_i})\n",
    "\\end{equation}\n",
    "\n",
    "- $d_q$ is the distance between two quaternions\n",
    "\n",
    "\\begin{equation}\n",
    "\\label{eq:eq2}\n",
    "d(q_1,q_2)=2arccos(|<q_1,q_2>|)\n",
    "\\end{equation}\n",
    "\n",
    "- $q_i \\in S^3$ is the quaternion of a true rotation angles\n",
    "\n",
    "- $\\hat{q_i} \\in S^3$ is the rotation of the estimatied rotation angles\n",
    "\n",
    "- $R \\in SO(4)$ is $4x4$ orthogonal matrix with determinant 1 that represents a global rotation\n",
    "\n",
    "- $m \\in \\{-1,1\\}$ represents a global reflection ($m=1$ no reflection, $m=-1$ reflection)\n",
    "\n",
    "- $\\begin{bmatrix}\n",
    "m & 0\\\\\n",
    "0 & I\n",
    "\\end{bmatrix} = \\begin{bmatrix}\n",
    "m & 0 & 0 & 0\\\\\n",
    "0 & 1 & 0 & 0\\\\\n",
    "0 & 0 & 1 & 0\\\\\n",
    "0 & 0 & 0 & 1\n",
    "\\end{bmatrix}$"
   ]
  },
  {
   "cell_type": "markdown",
   "metadata": {},
   "source": [
    "# Read data for the optimization"
   ]
  },
  {
   "cell_type": "markdown",
   "metadata": {},
   "source": [
    "#### Prediction angles from previous phase that we want to align with true angles"
   ]
  },
  {
   "cell_type": "code",
   "execution_count": 6,
   "metadata": {},
   "outputs": [],
   "source": [
    "def angles_transpose(angles):\n",
    "    cols = [2, 1, 0]\n",
    "    idx = np.empty_like(cols)\n",
    "    idx[cols] = np.arange(len(cols))\n",
    "    angles[:] = -angles[:, idx]\n",
    "    return angles"
   ]
  },
  {
   "cell_type": "code",
   "execution_count": 7,
   "metadata": {},
   "outputs": [],
   "source": [
    "quaternion_predicted = np.load(\"data/predicted_quaternions2.npy\")"
   ]
  },
  {
   "cell_type": "code",
   "execution_count": 8,
   "metadata": {},
   "outputs": [],
   "source": [
    "angles_predicted = quaternion2euler(quaternion_predicted).numpy()"
   ]
  },
  {
   "cell_type": "markdown",
   "metadata": {},
   "source": [
    "---"
   ]
  },
  {
   "cell_type": "markdown",
   "metadata": {},
   "source": [
    "#### True angles"
   ]
  },
  {
   "cell_type": "code",
   "execution_count": 9,
   "metadata": {},
   "outputs": [],
   "source": [
    "angles_true = np.load(\"data/angles_true.npy\")"
   ]
  },
  {
   "cell_type": "markdown",
   "metadata": {},
   "source": [
    "#### Run the Optimization"
   ]
  },
  {
   "cell_type": "markdown",
   "metadata": {},
   "source": [
    "The `rotation` is our minimizer and we initialize this 6D vector with random values. That is the reason the optimization sometimes converges to 0 loss and sometimes not."
   ]
  },
  {
   "cell_type": "code",
   "execution_count": 10,
   "metadata": {},
   "outputs": [],
   "source": [
    "\n",
    "import tensorflow as tf\n",
    "from tensorflow.keras.optimizers import Adam\n",
    "from tensorflow_graphics.geometry.transformation import quaternion\n",
    "from time import time\n",
    "import numpy as np\n",
    "import matplotlib.pyplot as plt\n",
    "import seaborn as sns; sns.set(style=\"white\", color_codes=True)\n",
    "import random\n",
    "from tensorflow_graphics.math import vector\n",
    "from itertools import product\n",
    "import time\n",
    "from IPython import display as IPyDisplay\n",
    "from scipy.spatial.transform import Rotation as R\n",
    "\n",
    "\n",
    "def euler6tomarix4d(a_R):\n",
    "\n",
    "    xy, xz, xw, yz, yw, zw = tf.unstack(a_R, axis=-1)\n",
    "    \n",
    "    cxy = tf.cos(xy)\n",
    "    cxz = tf.cos(xz)\n",
    "    cxw = tf.cos(xw)\n",
    "    cyz = tf.cos(yz)\n",
    "    cyw = tf.cos(yw)\n",
    "    czw = tf.cos(zw)\n",
    "    \n",
    "    sxy = tf.sin(xy)\n",
    "    sxz = tf.sin(xz)\n",
    "    sxw = tf.sin(xw)\n",
    "    syz = tf.sin(yz)\n",
    "    syw = tf.sin(yw)\n",
    "    szw = tf.sin(zw)\n",
    "    \n",
    "    # Note: wasn't able to create it as simple as np.ndarrays...\n",
    "    Rxy = [[  cxy,  -sxy, [0.0], [0.0]], \n",
    "           [  sxy,   cxy, [0.0], [0.0]],\n",
    "           [[0.0], [0.0], [1.0], [0.0]],\n",
    "           [[0.0], [0.0], [0.0], [1.0]]]\n",
    "    Rxy = tf.reshape(tf.convert_to_tensor(Rxy, dtype=tf.float64), (4, 4)) \n",
    "    \n",
    "    Rxz = [[  cxz, [0.0],  -sxz, [0.0]],\n",
    "           [[0.0], [1.0], [0.0], [0.0]],\n",
    "           [  sxz, [0.0],   cxz, [0.0]],\n",
    "           [[0.0], [0.0], [0.0], [1.0]]]\n",
    "    Rxz = tf.reshape(tf.convert_to_tensor(Rxz, dtype=tf.float64), (4, 4))\n",
    "    \n",
    "    Rxw = [[  cxw, [0.0], [0.0],  -sxw],\n",
    "           [[0.0], [1.0], [0.0], [0.0]],\n",
    "           [[0.0], [0.0], [1.0], [0.0]], \n",
    "           [  sxw, [0.0], [0.0],  cxw]]\n",
    "    Rxw = tf.reshape(tf.convert_to_tensor(Rxw, dtype=tf.float64), (4, 4))\n",
    "    \n",
    "    Ryz = [[[1.0], [0.0], [0.0], [0.0]],\n",
    "           [[0.0],   cyz,  -syz, [0.0]],\n",
    "           [[0.0],   syz,   cyz, [0.0]],\n",
    "           [[0.0], [0.0], [0.0], [1.0]]]\n",
    "    Ryz = tf.reshape(tf.convert_to_tensor(Ryz, dtype=tf.float64), (4, 4))\n",
    "    \n",
    "    Ryw = [[[1.0], [0.0], [0.0], [0.0]],\n",
    "           [[0.0],   cyw, [0.0],  -syw],\n",
    "           [[0.0], [0.0], [1.0], [0.0]],\n",
    "           [[0.0],   syw, [0.0],  cyw]]\n",
    "    Ryw = tf.reshape(tf.convert_to_tensor(Ryw, dtype=tf.float64), (4, 4))\n",
    "    \n",
    "    Rzw = [[[1.0], [0.0], [0.0], [0.0]],\n",
    "           [[0.0], [1.0], [0.0], [0.0]], \n",
    "           [[0.0], [0.0],   czw,  -szw],\n",
    "           [[0.0], [0.0],   szw,  czw]]\n",
    "    Rzw = tf.reshape(tf.convert_to_tensor(Rzw, dtype=tf.float64), (4, 4))\n",
    "  \n",
    "    R = Rxy @ Rxz @ Rxw @ Ryz @ Ryw @ Rzw\n",
    "\n",
    "    # check if matrix is orthogonal: R^T @ R - I < 1e-5\n",
    "    assert tf.reduce_all(tf.less_equal(tf.abs(tf.subtract(tf.transpose(R) @ R, tf.eye(4, 4, dtype=tf.float64))), 1e-5)), \"Matrix R (4x4) should be orthogonal!\" \n",
    "        \n",
    "    return R\n",
    "\n",
    "\n",
    "def update_quaternion(m, a_R, q_predicted):\n",
    "    # 4D matrix rotation\n",
    "    R = euler6tomarix4d(a_R)\n",
    "    I = tf.linalg.diag(tf.convert_to_tensor(m, dtype=tf.float64))\n",
    "    q_predicted_rotated = tf.transpose(R @ I @ tf.transpose(q_predicted))\n",
    "\n",
    "    return q_predicted_rotated\n",
    "\n",
    "def loss_alignment(m, a_R, q_predicted, q_true):\n",
    "    # 4D matrix rotation\n",
    "    R = euler6tomarix4d(a_R)\n",
    "    I = tf.linalg.diag(tf.convert_to_tensor(m, dtype=tf.float64))\n",
    "    q_predicted_rotated = tf.transpose(R @ I @ tf.transpose(q_predicted))\n",
    "\n",
    "    return tf.reduce_mean(d_q(q_true, q_predicted_rotated))\n",
    "\n",
    "\n",
    "def gradient_alignment(m, a_R, q_predicted, q_true):\n",
    "    with tf.GradientTape() as tape:\n",
    "        loss_value = loss_alignment(m, a_R, q_predicted, q_true)\n",
    "        gradient = tape.gradient(loss_value, a_R)\n",
    "        \n",
    "    return loss_value, gradient\n",
    "\n",
    "\n",
    "def training_angle_alignment(m, steps, batch_size, learning_rate, angles_true, angles_predicted):\n",
    "    \n",
    "    collect_data = []\n",
    "\n",
    "    optimizer = Adam(learning_rate=learning_rate)\n",
    "\n",
    "    time_start = time.time()\n",
    "\n",
    "    report = \"\"\n",
    "\n",
    "    losses = np.empty(steps)\n",
    "    Rs = np.empty((steps, 6))\n",
    "    angles_predicted = tf.convert_to_tensor(angles_predicted)\n",
    "\n",
    "    euler = tf.random.uniform([6], 0, 2*np.pi, dtype=tf.float64) #np.zeros(6, dtype=np.float64)\n",
    "    a_R = [tf.Variable(euler)]\n",
    "\n",
    "    q_predicted = euler2quaternion(angles_predicted)\n",
    "    q_true = euler2quaternion(angles_true)\n",
    "\n",
    "    for step in range(1, steps+1):\n",
    "\n",
    "        # Sample some pairs.\n",
    "        idx = list(np.random.choice(range(len(angles_predicted)), size=batch_size))\n",
    "\n",
    "        # Compute distances between projections\n",
    "        qt = [q_true[i]      for i in idx]\n",
    "        qp = [q_predicted[i] for i in idx]\n",
    "\n",
    "        # Optimize by gradient descent.\n",
    "        losses[step-1], gradients = gradient_alignment(m, a_R, qp, qt)\n",
    "        optimizer.apply_gradients(zip(gradients, a_R))\n",
    "        Rs[step-1] = a_R[0].numpy()\n",
    "\n",
    "        update_lr = 300\n",
    "        if step>update_lr and step%update_lr==0 and losses[step-1]-losses[step-1-update_lr+100] < 0.1:\n",
    "            learning_rate *= 0.1\n",
    "\n",
    "        # Visualize progress periodically\n",
    "        if step % 10 == 0:\n",
    "            qu = update_quaternion(m, a_R, q_predicted)\n",
    "\n",
    "            collect_data.append(qu.numpy())\n",
    "\n",
    "            plt.close();\n",
    "            sns.set(style=\"white\", color_codes=True)\n",
    "            sns.set(style=\"whitegrid\")\n",
    "\n",
    "            fig, axs = plt.subplots(1, 3, figsize=(24,7))\n",
    "\n",
    "            # Distance count subplot (batches)\n",
    "            qpr = update_quaternion(m, a_R, qp)\n",
    "            d1 = d_q(qpr, qt)\n",
    "            axs[0].set_xlim(0, np.pi)\n",
    "            #axs[0].set_ylim(0, batch_size)\n",
    "            axs[0].set_title(f\"BATCHES (size={len(qp)}): [{step}/{steps}] Distances between true and predicted angles \\nMEAN={np.mean(d1):.2e} STD={np.std(d1):.2e}\")\n",
    "            s = sns.distplot(d1, kde=False, bins=100, ax=axs[0], axlabel=\"Distance [rad]\", color=\"r\")\n",
    "            max_count = int(max([h.get_height() for h in s.patches]))\n",
    "            axs[0].plot([np.mean(d1)]*max_count, np.arange(0, max_count,1), c=\"r\", lw=4)\n",
    "\n",
    "            # Optimization loss subplot\n",
    "            axs[1].plot(np.linspace(0, time.time()-time_start, step), losses[:step], marker=\"o\", lw=1, markersize=3)\n",
    "            axs[1].set_xlabel('time [s]')\n",
    "            axs[1].set_ylabel('loss');\n",
    "            axs[1].set_title(f\"Angle alignment optimization \\nLOSS={np.mean(losses[step-10:step]):.2e} LR={learning_rate:.2e}\")\n",
    "\n",
    "            # Distance count subplot (full)\n",
    "            q_predicted_rot = update_quaternion(m, a_R, q_predicted)\n",
    "            d2 = d_q(q_predicted_rot, q_true)\n",
    "            axs[2].set_xlim(0, np.pi)\n",
    "            # axs[2].set_ylim(0, len(angles_true))\n",
    "            axs[2].set_title(f\"FULL: [{step}/{steps}] Distances between true and predicted angles\\nMEAN={np.mean(d2):.2e} ({np.degrees(np.mean(d2)):.2e} deg) STD={np.std(d2):.2e}\\nMEDIAN={np.median(d2):.2e} ({np.degrees(np.median(d2)):.2e} deg)\")\n",
    "            s = sns.distplot(d2, kde=False, bins=100, ax=axs[2], axlabel=\"Distance [rad]\", color=\"r\")\n",
    "            max_count = int(max([h.get_height() for h in s.patches]))\n",
    "            axs[2].plot([np.mean(d2)]*max_count, np.arange(0, max_count,1), c=\"r\", lw=4)\n",
    "\n",
    "\n",
    "            IPyDisplay.clear_output(wait=True)\n",
    "            IPyDisplay.display(plt.gcf())\n",
    "            plt.close();\n",
    "            time.sleep(.1)\n",
    "\n",
    "\n",
    "        # Periodically report progress.\n",
    "        if ((step % (steps//10)) == 0) or (step == steps):\n",
    "            time_elapsed = time.time() - time_start\n",
    "            report += f'step {step}/{steps} ({time_elapsed:.0f}s): loss = {np.mean(losses[step-steps//10:step-1]):.2e}\\n'\n",
    "\n",
    "        if step >= 101 and np.mean(losses[step-101:step-1]) < 1e-3:\n",
    "            break;\n",
    "\n",
    "    print(report)\n",
    "    print(\"---\")\n",
    "    return m, a_R, losses, np.array(collect_data), Rs"
   ]
  },
  {
   "cell_type": "code",
   "execution_count": 11,
   "metadata": {},
   "outputs": [
    {
     "data": {
      "image/png": "[encoded data removed]",
      "text/plain": [
       "<Figure size 1728x504 with 3 Axes>"
      ]
     },
     "metadata": {},
     "output_type": "display_data"
    },
    {
     "name": "stdout",
     "output_type": "stream",
     "text": [
      "step 30/300 (4s): loss = 1.53e+00\n",
      "step 60/300 (9s): loss = 8.95e-01\n",
      "step 90/300 (13s): loss = 4.33e-01\n",
      "step 120/300 (18s): loss = 4.96e-02\n",
      "step 150/300 (22s): loss = 7.27e-03\n",
      "step 180/300 (26s): loss = 3.64e-03\n",
      "step 210/300 (31s): loss = 3.05e-03\n",
      "step 240/300 (35s): loss = 2.80e-03\n",
      "step 270/300 (40s): loss = 2.67e-03\n",
      "step 300/300 (44s): loss = 2.61e-03\n",
      "\n",
      "---\n"
     ]
    }
   ],
   "source": [
    "m, rotation, loss, collect_data, Rs  = training_angle_alignment(m=[1.0, 1.0, 1.0, 1.0],\n",
    "                                                 steps=300, \n",
    "                                                 batch_size=256, \n",
    "                                                 learning_rate=0.01, \n",
    "                                                 angles_true=angles_true, \n",
    "                                                 angles_predicted=angles_predicted)"
   ]
  },
  {
   "cell_type": "code",
   "execution_count": 13,
   "metadata": {},
   "outputs": [
    {
     "data": {
      "text/plain": [
       "((300, 6), (300,))"
      ]
     },
     "execution_count": 13,
     "metadata": {},
     "output_type": "execute_result"
    }
   ],
   "source": [
    "Rs.shape, loss.shape"
   ]
  },
  {
   "cell_type": "code",
   "execution_count": 82,
   "metadata": {},
   "outputs": [],
   "source": [
    "# # QUICK TEST: STARTS FROM RED, GO TO BLUE\n",
    "# import bqplot.scales\n",
    "\n",
    "# x = Rs[:,0]\n",
    "# y = Rs[:,1]\n",
    "# z = Rs[:,2]\n",
    "# r = loss\n",
    "# cols = np.empty((len(r), 4))\n",
    "# cmap = plt.get_cmap('jet')\n",
    "# for i, c in enumerate(r):\n",
    "#     cols[i, :] = list(cmap(c))\n",
    "\n",
    "# scatter = ipv.scatter(x, y, z, color=cols, size=0.5)\n",
    "# ipv.show()"
   ]
  },
  {
   "cell_type": "code",
   "execution_count": 74,
   "metadata": {},
   "outputs": [
    {
     "data": {
      "image/png": "[encoded data removed]",
      "text/plain": [
       "<Figure size 432x288 with 1 Axes>"
      ]
     },
     "metadata": {},
     "output_type": "display_data"
    }
   ],
   "source": [
    "for i in range(len(loss)):\n",
    "    plt.plot(Rs[:,0][i], Rs[:,1][i], markersize=3, marker='o', color=cols[i])"
   ]
  },
  {
   "cell_type": "code",
   "execution_count": 69,
   "metadata": {},
   "outputs": [
    {
     "data": {
      "image/png": "[encoded data removed]",
      "text/plain": [
       "<Figure size 432x288 with 1 Axes>"
      ]
     },
     "metadata": {},
     "output_type": "display_data"
    }
   ],
   "source": [
    "for i in range(len(loss)):\n",
    "    plt.plot(Rs[:,1][i], Rs[:,2][i], markersize=3, marker='o', color=cols[i])"
   ]
  },
  {
   "cell_type": "markdown",
   "metadata": {},
   "source": [
    "# Polar Plot"
   ]
  },
  {
   "cell_type": "code",
   "execution_count": null,
   "metadata": {},
   "outputs": [],
   "source": [
    "angles_predicted_all = np.zeros((*collect_data.shape[0:2], 3))\n",
    "for i, q in enumerate(collect_data):\n",
    "    angles_predicted_all[i, :] = R.from_quat(q).as_euler(\"zyz\") % (2*np.pi)"
   ]
  },
  {
   "cell_type": "code",
   "execution_count": null,
   "metadata": {},
   "outputs": [],
   "source": [
    "# PREDICTED ANGLES ITERATION    \n",
    "xyz = np.zeros(angles_predicted_all.shape)\n",
    "for i, a in enumerate(angles_predicted_all):\n",
    "    z0, y1, z1 = a[:,0], a[:,1], a[:,2]\n",
    "    x = z1*np.sin(y1)*np.cos(z0)\n",
    "    y = z1*np.sin(y1)*np.sin(z0)\n",
    "    z = z1*np.cos(y1)\n",
    "    xyz[i,:,:] = np.array([x, y, z]).T\n",
    "    \n",
    "# TRUE ANGLES\n",
    "xyz_true = np.zeros(angles_true.shape)\n",
    "z0, y1, z1 = angles_true[:,0], angles_true[:,1], angles_true[:,2]\n",
    "\n",
    "x = z1*np.sin(y1)*np.cos(z0)\n",
    "y = z1*np.sin(y1)*np.sin(z0)\n",
    "z = z1*np.cos(y1)\n",
    "\n",
    "xyz_true = np.array([x, y, z]).T\n",
    "\n",
    "# PREDICTED ANGLES\n",
    "xyz_predicted = np.zeros(angles_predicted.shape)\n",
    "z0, y1, z1 = angles_predicted[:,0], angles_predicted[:,1], angles_predicted[:,2]\n",
    "\n",
    "x = z1*np.sin(y1)*np.cos(z0)\n",
    "y = z1*np.sin(y1)*np.sin(z0)\n",
    "z = z1*np.cos(y1)\n",
    "\n",
    "xyz_predicted = np.array([x, y, z]).T"
   ]
  },
  {
   "cell_type": "code",
   "execution_count": null,
   "metadata": {},
   "outputs": [],
   "source": [
    "ipv.figure()\n",
    "s = ipv.scatter(xyz[:, :,0], xyz[:, :,1], xyz[:, :,2], marker=\"sphere\", color=\"blue\", size=1)\n",
    "ipv.scatter(xyz_true[:,0], xyz_true[:,1], xyz_true[:,2], marker=\"sphere\", color=\"red\", size=1)\n",
    "ipv.xlim(-2*np.pi, 2*np.pi);ipv.ylim(-2*np.pi, 2*np.pi);ipv.zlim(-2*np.pi, 2*np.pi);\n",
    "ipv.animation_control(s, interval=100)\n",
    "ipv.show()"
   ]
  },
  {
   "cell_type": "markdown",
   "metadata": {},
   "source": [
    "# Rotation Vector Plot"
   ]
  },
  {
   "cell_type": "code",
   "execution_count": 29,
   "metadata": {
    "scrolled": false
   },
   "outputs": [
    {
     "data": {
      "application/vnd.jupyter.widget-view+json": {
       "model_id": "6d4655e9572240dba669694954c9a9c8",
       "version_major": 2,
       "version_minor": 0
      },
      "text/plain": [
       "VBox(children=(Figure(animation=100.0, camera=PerspectiveCamera(fov=46.0, position=(0.0, 0.0, 2.0), quaternion…"
      ]
     },
     "metadata": {},
     "output_type": "display_data"
    }
   ],
   "source": [
    "arr2 = R.from_euler('zyz', angles_true).as_rotvec()\n",
    "arr3 = np.zeros((len(angles_predicted_all), *arr2.shape))\n",
    "for i, a in enumerate(angles_predicted_all):\n",
    "    arr3[i,:] = R.from_euler('zyz', a).as_rotvec()\n",
    "\n",
    "ipv.figure()\n",
    "s = ipv.scatter(arr3[:, :,0], arr3[:, :,1], arr3[:, :,2], marker=\"sphere\", color=\"blue\", size=1)\n",
    "ipv.scatter(arr2[:,0], arr2[:,1], arr2[:,2], marker=\"sphere\", color=\"red\", size=1)\n",
    "ipv.animation_control(s, interval=100)\n",
    "ipv.show()"
   ]
  },
  {
   "cell_type": "markdown",
   "metadata": {},
   "source": [
    "# Angle Alignment for Transpose (just test)"
   ]
  },
  {
   "cell_type": "code",
   "execution_count": null,
   "metadata": {},
   "outputs": [],
   "source": []
  },
  {
   "cell_type": "code",
   "execution_count": 100,
   "metadata": {},
   "outputs": [
    {
     "data": {
      "text/plain": [
       "array([[ 2.97444801, -1.69700539,  0.27767634],\n",
       "       [-1.6639683 , -1.04998219, -0.59764091],\n",
       "       [-1.20397157, -1.4117166 , -0.2497224 ],\n",
       "       ...,\n",
       "       [ 0.46647467, -1.29031964, -1.25690316],\n",
       "       [ 1.60739494, -0.42865127, -0.1440733 ],\n",
       "       [-0.09104401, -1.32784058,  0.72799575]])"
      ]
     },
     "execution_count": 100,
     "metadata": {},
     "output_type": "execute_result"
    }
   ],
   "source": [
    "angles_predicted_T = angles_transpose(angles_predicted)\n",
    "angles_predicted_T"
   ]
  },
  {
   "cell_type": "code",
   "execution_count": 106,
   "metadata": {},
   "outputs": [
    {
     "data": {
      "image/png": "[encoded data removed]",
      "text/plain": [
       "<Figure size 1728x504 with 3 Axes>"
      ]
     },
     "metadata": {},
     "output_type": "display_data"
    },
    {
     "name": "stdout",
     "output_type": "stream",
     "text": [
      "step 50/500 (10s): loss = 1.50e+00\n",
      "step 100/500 (19s): loss = 9.87e-01\n",
      "step 150/500 (27s): loss = 2.71e-01\n",
      "step 200/500 (35s): loss = 8.43e-03\n",
      "step 250/500 (44s): loss = 3.96e-03\n",
      "step 300/500 (54s): loss = 3.11e-03\n",
      "step 350/500 (62s): loss = 2.82e-03\n",
      "step 400/500 (71s): loss = 2.65e-03\n",
      "step 450/500 (79s): loss = 2.55e-03\n",
      "step 500/500 (87s): loss = 2.49e-03\n",
      "\n",
      "---\n"
     ]
    }
   ],
   "source": [
    "m, rotation, loss, collect_data  = training_angle_alignment(m=[-1., 1., 1., 1.],\n",
    "                                                 steps=500, \n",
    "                                                 batch_size=256, \n",
    "                                                 learning_rate=0.01, \n",
    "                                                 angles_true=angles_true, \n",
    "                                                 angles_predicted=angles_predicted_T)"
   ]
  },
  {
   "cell_type": "code",
   "execution_count": 107,
   "metadata": {},
   "outputs": [
    {
     "data": {
      "text/plain": [
       "([-1.0, 1.0, 1.0, 1.0],\n",
       " array([ 5.10430533,  0.55311296,  3.4936543 ,  3.22003963,  2.56188079,\n",
       "        -0.68129539]),\n",
       " 0.001778713521433596)"
      ]
     },
     "execution_count": 107,
     "metadata": {},
     "output_type": "execute_result"
    }
   ],
   "source": [
    "m, rotation[0].numpy(), loss[-1]"
   ]
  },
  {
   "cell_type": "markdown",
   "metadata": {},
   "source": [
    "# Polar Plot"
   ]
  },
  {
   "cell_type": "code",
   "execution_count": 109,
   "metadata": {},
   "outputs": [],
   "source": [
    "angles_predicted_all = np.zeros((*collect_data.shape[0:2], 3))\n",
    "for i, q in enumerate(collect_data):\n",
    "    angles_predicted_all[i, :] = R.from_quat(q).as_euler(\"zyz\")"
   ]
  },
  {
   "cell_type": "code",
   "execution_count": 110,
   "metadata": {},
   "outputs": [],
   "source": [
    "# PREDICTED ANGLES ITERATION    \n",
    "xyz = np.zeros(angles_predicted_all.shape)\n",
    "for i, a in enumerate(angles_predicted_all):\n",
    "    z0, y1, z1 = a[:,0], a[:,1], a[:,2]\n",
    "    x = z1*np.sin(y1)*np.cos(z0)\n",
    "    y = z1*np.sin(y1)*np.sin(z0)\n",
    "    z = z1*np.cos(y1)\n",
    "    xyz[i,:,:] = np.array([x, y, z]).T\n",
    "    \n",
    "# TRUE ANGLES\n",
    "xyz_true = np.zeros(angles_true.shape)\n",
    "z0, y1, z1 = angles_true[:,0], angles_true[:,1], angles_true[:,2]\n",
    "\n",
    "x = z1*np.sin(y1)*np.cos(z0)\n",
    "y = z1*np.sin(y1)*np.sin(z0)\n",
    "z = z1*np.cos(y1)\n",
    "\n",
    "xyz_true = np.array([x, y, z]).T\n",
    "\n",
    "# PREDICTED ANGLES\n",
    "xyz_predicted = np.zeros(angles_predicted.shape)\n",
    "z0, y1, z1 = angles_predicted[:,0], angles_predicted[:,1], angles_predicted[:,2]\n",
    "\n",
    "x = z1*np.sin(y1)*np.cos(z0)\n",
    "y = z1*np.sin(y1)*np.sin(z0)\n",
    "z = z1*np.cos(y1)\n",
    "\n",
    "xyz_predicted = np.array([x, y, z]).T"
   ]
  },
  {
   "cell_type": "code",
   "execution_count": 112,
   "metadata": {},
   "outputs": [
    {
     "data": {
      "application/vnd.jupyter.widget-view+json": {
       "model_id": "cff0b6345b8d4627b659f8ae17365db2",
       "version_major": 2,
       "version_minor": 0
      },
      "text/plain": [
       "VBox(children=(Figure(animation=50.0, camera=PerspectiveCamera(fov=46.0, position=(0.0, 0.0, 2.0), quaternion=…"
      ]
     },
     "metadata": {},
     "output_type": "display_data"
    }
   ],
   "source": [
    "ipv.figure()\n",
    "s = ipv.scatter(xyz[:, :,0], xyz[:, :,1], xyz[:, :,2], marker=\"sphere\", color=\"blue\", size=1)\n",
    "ipv.scatter(xyz_true[:,0], xyz_true[:,1], xyz_true[:,2], marker=\"sphere\", color=\"red\", size=1)\n",
    "ipv.xlim(-2*np.pi, 2*np.pi);ipv.ylim(-2*np.pi, 2*np.pi);ipv.zlim(-2*np.pi, 2*np.pi);\n",
    "ipv.animation_control(s, interval=50)\n",
    "ipv.show()"
   ]
  },
  {
   "cell_type": "markdown",
   "metadata": {},
   "source": [
    "# Rotation Vector Plot"
   ]
  },
  {
   "cell_type": "code",
   "execution_count": 113,
   "metadata": {
    "scrolled": false
   },
   "outputs": [
    {
     "data": {
      "application/vnd.jupyter.widget-view+json": {
       "model_id": "03d469886a804cb5891cbb6205ecfd3f",
       "version_major": 2,
       "version_minor": 0
      },
      "text/plain": [
       "VBox(children=(Figure(animation=1.0, camera=PerspectiveCamera(fov=46.0, position=(0.0, 0.0, 2.0), quaternion=(…"
      ]
     },
     "metadata": {},
     "output_type": "display_data"
    }
   ],
   "source": [
    "arr2 = R.from_euler('zyz', angles_true).as_rotvec()\n",
    "arr3 = np.zeros((len(angles_predicted_all), *arr2.shape))\n",
    "for i, a in enumerate(angles_predicted_all):\n",
    "    arr3[i,:] = R.from_euler('zyz', a).as_rotvec()\n",
    "\n",
    "ipv.figure()\n",
    "s = ipv.scatter(arr3[:, :,0], arr3[:, :,1], arr3[:, :,2], marker=\"sphere\", color=\"blue\", size=1)\n",
    "ipv.scatter(arr2[:,0], arr2[:,1], arr2[:,2], marker=\"sphere\", color=\"red\", size=1)\n",
    "ipv.animation_control(s, interval=1)\n",
    "ipv.show()"
   ]
  },
  {
   "cell_type": "markdown",
   "metadata": {},
   "source": [
    "#### Plot the Topology"
   ]
  },
  {
   "cell_type": "markdown",
   "metadata": {},
   "source": [
    "Consider the solid ball in $\\mathbb {R} ^{3}$ of radius π (that is, all points of $\\mathbb {R} ^{3}$ of distance π or less from the origin). Given the above, for every point in this ball there is a rotation, with axis through the point and the origin, and rotation angle equal to the distance of the point from the origin. The identity rotation corresponds to the point at the center of the ball. Rotation through angles between 0 and −π correspond to the point on the same axis and distance from the origin but on the opposite side of the origin. The one remaining issue is that the two rotations through π and through −π are the same. So we identify (or \"glue together\") antipodal points on the surface of the ball. After this identification, we arrive at a topological space homeomorphic to the rotation group. Reference [wiki](https://en.wikipedia.org/wiki/3D_rotation_group)"
   ]
  }
 ],
 "metadata": {
  "kernelspec": {
   "display_name": "Python 3",
   "language": "python",
   "name": "python3"
  },
  "language_info": {
   "codemirror_mode": {
    "name": "ipython",
    "version": 3
   },
   "file_extension": ".py",
   "mimetype": "text/x-python",
   "name": "python",
   "nbconvert_exporter": "python",
   "pygments_lexer": "ipython3",
   "version": "3.6.8"
  }
 },
 "nbformat": 4,
 "nbformat_minor": 2
}
