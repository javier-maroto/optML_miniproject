{
 "cells": [
  {
   "cell_type": "markdown",
   "metadata": {},
   "source": [
    "# Test rotation similarity and finidng unique angle"
   ]
  },
  {
   "cell_type": "markdown",
   "metadata": {},
   "source": [
    "Since it is possible to get the same 4D matrix from a two different sets of 6D vectors, in this notebook we want to test and explore different ways of getting a unique 6D vector values from a 4D rotation matrix and define a standard that will be used in the future code. \n",
    "\n",
    "Simple example in a lower dimension: if we are in 3D space, and we rotate an object around x-axis by 90 degrees and then around y-axis by 90 degrees, it would have the same position if instead we rotated an object around z-axis by 90 degrees. In our problem, we are working in a 4D space, but similar rules should apply there as well."
   ]
  },
  {
   "cell_type": "markdown",
   "metadata": {},
   "source": [
    "### Content"
   ]
  },
  {
   "cell_type": "markdown",
   "metadata": {},
   "source": [
    "- [1. Test rotation similarity](#1.-Test-rotation-similarity)\n",
    "    - [1.1. Test with Alignment methods](#1.1.-Test-with-Alignment-methods)\n",
    "- [2. Finding unique angle](#2.-Finding-unique-angle)\n",
    "- [3. Solving 16 equations (from a 4D rotation matrix)](#3.-Solving-16-equations-(from-a-4D-rotation-matrix))"
   ]
  },
  {
   "cell_type": "markdown",
   "metadata": {},
   "source": [
    "---"
   ]
  },
  {
   "cell_type": "markdown",
   "metadata": {},
   "source": [
    "## 1. Test rotation similarity"
   ]
  },
  {
   "cell_type": "code",
   "execution_count": 1,
   "metadata": {},
   "outputs": [],
   "source": [
    "import numpy as np"
   ]
  },
  {
   "cell_type": "markdown",
   "metadata": {},
   "source": [
    "In the following image we are trying to empirically find what is the rule that connects the sets of 6D vectors that give the same 4D rotation matrix. After finding the posible rule, we are running several tests. The method that is implemented is the first method we developed to compare if two 6D vectors give the same 4D rotation, called `rotations_equal(R1, R2)`."
   ]
  },
  {
   "cell_type": "markdown",
   "metadata": {},
   "source": [
    "![](https://i.imgur.com/jabkxNt.jpg)"
   ]
  },
  {
   "cell_type": "code",
   "execution_count": 2,
   "metadata": {},
   "outputs": [],
   "source": [
    "R1 = [7.46021406, 2.58905189, 5.9320024,  3.06165002, 2.56025736, 3.82164765]\n",
    "R2 = [1.17798222, 5.7311303,  3.49258011, 6.36339684, 5.70202671, 3.82134471]\n",
    "R3 = [-1.96368164,  3.69437634,  3.492642 ,   3.22182489, -0.58032233,  3.82173555]"
   ]
  },
  {
   "cell_type": "code",
   "execution_count": 3,
   "metadata": {},
   "outputs": [],
   "source": [
    "R4 = [0, 0, 0, 0, 0, 0]\n",
    "R5 = [0, 2*np.pi, np.pi, 0, np.pi, np.pi]\n",
    "R6 = [-np.pi, -np.pi, -np.pi, 0, 0, 0]"
   ]
  },
  {
   "cell_type": "code",
   "execution_count": 216,
   "metadata": {},
   "outputs": [],
   "source": [
    "def rotations_equal(R1, R2):\n",
    "    \"\"\"Compare two 6D rotation vectors\n",
    "    \n",
    "    Parameters\n",
    "    ----------\n",
    "    R1: 6d np.ndarray\n",
    "        First 6D vector\n",
    "    R2: 6d np.ndarray\n",
    "        Second 6D vector\n",
    "    \n",
    "    Returns\n",
    "    -------\n",
    "    : bool\n",
    "        True if two sets of 6d vecotrs have the same 4D rotation, False otherwise.\n",
    "    \"\"\"\n",
    "    tol = 1e-2\n",
    "    \n",
    "    R1 = list(map(lambda x: x%(2*np.pi), R1))\n",
    "    R2 = list(map(lambda x: x%(2*np.pi), R2))\n",
    "    \n",
    "    r = lambda i: R1[i]+R2[i]-2*(np.allclose(np.abs(R1[i]-R2[i])%np.pi, 0.0, atol=tol) or np.allclose(np.abs(R1[i]-R2[i])%np.pi, np.pi, atol=tol))*R2[i] \n",
    "\n",
    "    rd = lambda i, j: (r(i)+r(j))%(2*np.pi) if not np.allclose((r(i)+r(j))%(2*np.pi), 2*np.pi, atol=tol) else \\\n",
    "                      (2*np.pi)%(r(i)+r(j))\n",
    "\n",
    "    return np.allclose((rd(0, 5) + rd(1, 4) + rd(2, 3))%(3*np.round(np.pi,2)),     0.0, atol=tol) or \\\n",
    "           np.allclose((rd(0, 5) + rd(1, 4) + rd(2, 3))%(3*np.round(np.pi,2)), 3*np.pi, atol=tol) "
   ]
  },
  {
   "cell_type": "code",
   "execution_count": 218,
   "metadata": {},
   "outputs": [
    {
     "data": {
      "text/plain": [
       "(True, True, True)"
      ]
     },
     "execution_count": 218,
     "metadata": {},
     "output_type": "execute_result"
    }
   ],
   "source": [
    "rotations_equal(R1, R2), rotations_equal(R2, R3), rotations_equal(R1, R3) #== (True, True, True)"
   ]
  },
  {
   "cell_type": "code",
   "execution_count": 219,
   "metadata": {},
   "outputs": [
    {
     "data": {
      "text/plain": [
       "(True, True, True)"
      ]
     },
     "execution_count": 219,
     "metadata": {},
     "output_type": "execute_result"
    }
   ],
   "source": [
    "rotations_equal(R4, R5), rotations_equal(R4, R6), rotations_equal(R5, R6) #== (True, True, True)"
   ]
  },
  {
   "cell_type": "code",
   "execution_count": 220,
   "metadata": {},
   "outputs": [
    {
     "data": {
      "text/plain": [
       "(False, False, False)"
      ]
     },
     "execution_count": 220,
     "metadata": {},
     "output_type": "execute_result"
    }
   ],
   "source": [
    "rotations_equal(R1, R5), rotations_equal(R1, R6), rotations_equal(R2, R4) #== (False, False, False)"
   ]
  },
  {
   "cell_type": "code",
   "execution_count": 221,
   "metadata": {},
   "outputs": [
    {
     "data": {
      "text/plain": [
       "(False, False, False)"
      ]
     },
     "execution_count": 221,
     "metadata": {},
     "output_type": "execute_result"
    }
   ],
   "source": [
    "rotations_equal(R1, R4), rotations_equal(R2, R4), rotations_equal(R2, R5) #== (False, False, False)"
   ]
  },
  {
   "cell_type": "code",
   "execution_count": 222,
   "metadata": {},
   "outputs": [],
   "source": [
    "Rd1 = [ 2.55273739,  2.54278743, -0.31850297, -0.41680098,  3.52962884, -0.36112232]\n",
    "Rd2 = [ 2.92116975,  2.550321  , -0.28551178,  2.68878358, -0.40685398, 2.77110005]\n",
    "Rd3 = [ 2.80438687,  0.66014735,  0.05556158,  2.9211356 ,  3.7135224 , 0.21344568]"
   ]
  },
  {
   "cell_type": "code",
   "execution_count": 223,
   "metadata": {},
   "outputs": [
    {
     "data": {
      "text/plain": [
       "(False, False, False)"
      ]
     },
     "execution_count": 223,
     "metadata": {},
     "output_type": "execute_result"
    }
   ],
   "source": [
    "rotations_equal(Rd1, Rd2), rotations_equal(Rd2, Rd3), rotations_equal(Rd1, Rd3) #== (True, True, True)"
   ]
  },
  {
   "cell_type": "markdown",
   "metadata": {},
   "source": [
    "### 1.1. Test with Alignment methods"
   ]
  },
  {
   "cell_type": "code",
   "execution_count": 1,
   "metadata": {},
   "outputs": [
    {
     "name": "stderr",
     "output_type": "stream",
     "text": [
      "Warning: To use the exr data format, please install the OpenEXR package following the instructions detailed in the README at github.com/tensorflow/graphics.\n",
      "Warning: To use the threejs_vizualization, please install the colabtools package following the instructions detailed in the README at github.com/tensorflow/graphics.\n"
     ]
    }
   ],
   "source": [
    "import sys\n",
    "sys.path.append(\"..\") \n",
    "from oml.alignment import update_quaternion\n",
    "from oml.angles import quaternion2euler, euler2quaternion"
   ]
  },
  {
   "cell_type": "code",
   "execution_count": 10,
   "metadata": {},
   "outputs": [
    {
     "data": {
      "text/plain": [
       "array([[1., 2., 3.]])"
      ]
     },
     "execution_count": 10,
     "metadata": {},
     "output_type": "execute_result"
    }
   ],
   "source": [
    "ang = [1.0, 2.0, 3.0]\n",
    "\n",
    "rotation = [np.array([0, 2*np.pi, np.pi, 0, np.pi, np.pi], dtype=np.float64)]\n",
    "\n",
    "qp = euler2quaternion(np.array([ang], dtype=np.float64))\n",
    "\n",
    "qpa = update_quaternion(m=[1.0,1.0,1.0,1.0], \n",
    "                        a_R=rotation, \n",
    "                        q_predicted=qp)\n",
    "\n",
    "angles_predicted = quaternion2euler(qpa).numpy()\n",
    "\n",
    "angles_predicted"
   ]
  },
  {
   "cell_type": "code",
   "execution_count": 11,
   "metadata": {},
   "outputs": [
    {
     "data": {
      "text/plain": [
       "array([[1., 2., 3.]])"
      ]
     },
     "execution_count": 11,
     "metadata": {},
     "output_type": "execute_result"
    }
   ],
   "source": [
    "ang = [1.0, 2.0, 3.0]\n",
    "\n",
    "rotation = [np.array([np.pi, np.pi, np.pi, np.pi, np.pi, np.pi], dtype=np.float64)]\n",
    "\n",
    "qp = euler2quaternion(np.array([ang], dtype=np.float64))\n",
    "\n",
    "qpa = update_quaternion(m=[1.0,1.0,1.0,1.0], \n",
    "                        a_R=rotation, \n",
    "                        q_predicted=qp)\n",
    "\n",
    "angles_predicted = quaternion2euler(qpa).numpy()\n",
    "\n",
    "angles_predicted"
   ]
  },
  {
   "cell_type": "code",
   "execution_count": 12,
   "metadata": {},
   "outputs": [
    {
     "data": {
      "text/plain": [
       "array([[ 2.29822589,  2.94827061, -2.48492839]])"
      ]
     },
     "execution_count": 12,
     "metadata": {},
     "output_type": "execute_result"
    }
   ],
   "source": [
    "ang = [1.0, 2.0, 3.0]\n",
    "\n",
    "rotation = [np.array(R1, dtype=np.float64)]\n",
    "\n",
    "qp = euler2quaternion(np.array([ang], dtype=np.float64))\n",
    "\n",
    "qpa = update_quaternion(m=[1.0,1.0,1.0,1.0], \n",
    "                        a_R=rotation, \n",
    "                        q_predicted=qp)\n",
    "\n",
    "angles_predicted = quaternion2euler(qpa).numpy()\n",
    "\n",
    "angles_predicted"
   ]
  },
  {
   "cell_type": "code",
   "execution_count": 13,
   "metadata": {},
   "outputs": [
    {
     "data": {
      "text/plain": [
       "array([[ 2.29429832,  2.94822796, -2.49014507]])"
      ]
     },
     "execution_count": 13,
     "metadata": {},
     "output_type": "execute_result"
    }
   ],
   "source": [
    "ang = [1.0, 2.0, 3.0]\n",
    "\n",
    "rotation = [np.array(R2, dtype=np.float64)]\n",
    "\n",
    "qp = euler2quaternion(np.array([ang], dtype=np.float64))\n",
    "\n",
    "qpa = update_quaternion(m=[1.0,1.0,1.0,1.0], \n",
    "                        a_R=rotation, \n",
    "                        q_predicted=qp)\n",
    "\n",
    "angles_predicted = quaternion2euler(qpa).numpy()\n",
    "\n",
    "angles_predicted"
   ]
  },
  {
   "cell_type": "code",
   "execution_count": 14,
   "metadata": {},
   "outputs": [
    {
     "data": {
      "text/plain": [
       "array([[ 2.30144463,  2.94862414, -2.48245127]])"
      ]
     },
     "execution_count": 14,
     "metadata": {},
     "output_type": "execute_result"
    }
   ],
   "source": [
    "ang = [1.0, 2.0, 3.0]\n",
    "\n",
    "rotation = [np.array(R3, dtype=np.float64)]\n",
    "\n",
    "qp = euler2quaternion(np.array([ang], dtype=np.float64))\n",
    "\n",
    "qpa = update_quaternion(m=[1.0,1.0,1.0,1.0], \n",
    "                        a_R=rotation, \n",
    "                        q_predicted=qp)\n",
    "\n",
    "angles_predicted = quaternion2euler(qpa).numpy()\n",
    "\n",
    "angles_predicted"
   ]
  },
  {
   "cell_type": "markdown",
   "metadata": {},
   "source": [
    "---"
   ]
  },
  {
   "cell_type": "markdown",
   "metadata": {},
   "source": [
    "## 2. Finding unique angle"
   ]
  },
  {
   "cell_type": "markdown",
   "metadata": {},
   "source": [
    "In this part of the notebook we are finding 6d vecor representative. Since many combinations of 6d vectors give the same 4D rotation, here we define a way to single out one of them to represent their group. This is done in the method called `create_unique_angle(point)`. It constructs the equivalent 6d vector with all positive components such that their sum is minimum."
   ]
  },
  {
   "cell_type": "code",
   "execution_count": 1,
   "metadata": {},
   "outputs": [],
   "source": [
    "import numpy as np\n",
    "import os\n",
    "import pandas as pd"
   ]
  },
  {
   "cell_type": "code",
   "execution_count": 2,
   "metadata": {},
   "outputs": [],
   "source": [
    "def euler6tomarix4d(a_R):\n",
    "    \"\"\" Convert 6D vector containing angles to 4D rotation matrix\n",
    "\n",
    "    a_R: tf.tensor/np.ndarray\n",
    "        Vector of shape (6,)\n",
    "\n",
    "    Returns\n",
    "    -------\n",
    "    R: tf.tensor/np.ndarray\n",
    "        4x4 Rotation matrix corresponding to these 6 angles of rotations\n",
    "    \"\"\"\n",
    "    xy, xz, xw, yz, yw, zw = a_R\n",
    "\n",
    "    cxy = np.cos(xy)\n",
    "    cxz = np.cos(xz)\n",
    "    cxw = np.cos(xw)\n",
    "    cyz = np.cos(yz)\n",
    "    cyw = np.cos(yw)\n",
    "    czw = np.cos(zw)\n",
    "\n",
    "    sxy = np.sin(xy)\n",
    "    sxz = np.sin(xz)\n",
    "    sxw = np.sin(xw)\n",
    "    syz = np.sin(yz)\n",
    "    syw = np.sin(yw)\n",
    "    szw = np.sin(zw)\n",
    "\n",
    "    # Note: wasn't able to create it as simple as np.ndarrays...\n",
    "    Rxy = np.array([[  cxy,  -sxy, 0.0, 0.0],\n",
    "              [  sxy,   cxy, 0.0, 0.0],\n",
    "              [0.0, 0.0, 1.0, 0.0],\n",
    "              [0.0, 0.0, 0.0, 1.0]])\n",
    "\n",
    "    Rxz = np.array([[  cxz, 0.0,  -sxz, 0.0],\n",
    "               [0.0, 1.0, 0.0, 0.0],\n",
    "               [  sxz, 0.0,   cxz, 0.0],\n",
    "               [0.0, 0.0, 0.0, 1.0]])\n",
    "\n",
    "    Rxw = np.array([[  cxw, 0.0, 0.0,  -sxw],\n",
    "               [0.0, 1.0, 0.0, 0.0],\n",
    "               [0.0, 0.0, 1.0, 0.0],\n",
    "               [  sxw, 0.0, 0.0,  cxw]])\n",
    "\n",
    "    Ryz = np.array([[1.0, 0.0, 0.0, 0.0],\n",
    "               [0.0,   cyz,  -syz, 0.0],\n",
    "               [0.0,   syz,   cyz, 0.0],\n",
    "               [0.0, 0.0, 0.0, 1.0]])\n",
    "\n",
    "    Ryw = np.array([[1.0, 0.0, 0.0, 0.0],\n",
    "               [0.0,   cyw, 0.0,  -syw],\n",
    "               [0.0, 0.0, 1.0, 0.0],\n",
    "               [0.0,   syw, 0.0,  cyw]])\n",
    "\n",
    "    Rzw = np.array([[1.0, 0.0, 0.0, 0.0],\n",
    "               [0.0, 1.0, 0.0, 0.0],\n",
    "               [0.0, 0.0,   czw,  -szw],\n",
    "               [0.0, 0.0,   szw,  czw]])\n",
    "\n",
    "    R = Rxy @ Rxz @ Rxw @ Ryz @ Ryw @ Rzw\n",
    "\n",
    "    return R"
   ]
  },
  {
   "cell_type": "code",
   "execution_count": 3,
   "metadata": {},
   "outputs": [],
   "source": [
    "df = pd.read_csv(\"../results/alignment/loss.csv\")\n",
    "df['seed'] = df.seed.astype(int)\n",
    "df['good_conv'] = (df['final_loss'] < 0.1)"
   ]
  },
  {
   "cell_type": "code",
   "execution_count": 4,
   "metadata": {},
   "outputs": [],
   "source": [
    "n_runs = 100\n",
    "trajectories = {}\n",
    "critical_points = np.zeros([n_runs, 6])\n",
    "for i in range(n_runs):\n",
    "    trajectories[i] = np.load(f'../results/alignment/trajectories/{i}.npy')\n",
    "    critical_points[i, :] = trajectories[i][-1, :]"
   ]
  },
  {
   "cell_type": "code",
   "execution_count": 5,
   "metadata": {},
   "outputs": [],
   "source": [
    "def rotations_equal(R1, R2):\n",
    "    tol = 1e-8\n",
    "    \n",
    "    R1 = list(map(lambda x: x%(2*np.pi), R1))\n",
    "    R2 = list(map(lambda x: x%(2*np.pi), R2))\n",
    "    \n",
    "    r = lambda i: R1[i]+R2[i]-2*(np.allclose(np.abs(R1[i]-R2[i])%np.pi, 0.0, atol=tol) or np.allclose(np.abs(R1[i]-R2[i])%np.pi, np.pi, atol=tol))*R2[i] \n",
    "\n",
    "    rd = lambda i, j: (r(i)+r(j))%(2*np.pi) if not np.allclose((r(i)+r(j))%(2*np.pi), 2*np.pi, atol=tol) else \\\n",
    "                      (2*np.pi)%(r(i)+r(j))\n",
    "\n",
    "    return np.allclose((rd(0, 5) + rd(1, 4) + rd(2, 3))%(3*np.round(np.pi,2)),     0.0, atol=tol) or \\\n",
    "           np.allclose((rd(0, 5) + rd(1, 4) + rd(2, 3))%(3*np.round(np.pi,2)), 3*np.pi, atol=tol)"
   ]
  },
  {
   "cell_type": "code",
   "execution_count": 6,
   "metadata": {},
   "outputs": [],
   "source": [
    "def rotations_equal(R1, R2, return_m=False):\n",
    "    M1 = euler6tomarix4d(R1)\n",
    "    M2 = euler6tomarix4d(R2)\n",
    "    if return_m:\n",
    "        return M1, M2\n",
    "    cond = (np.allclose(M1, M2) | np.allclose(M1, -M2))\n",
    "    return cond"
   ]
  },
  {
   "cell_type": "code",
   "execution_count": 7,
   "metadata": {},
   "outputs": [],
   "source": [
    "def create_unique_angle(point):\n",
    "    \"\"\"Constructs the equivalent 6d vector with all positive components\n",
    "    such that their sum is minimum\"\"\"\n",
    "    point = [x % (2 * np.pi) for x in point]\n",
    "    return point"
   ]
  },
  {
   "cell_type": "code",
   "execution_count": 8,
   "metadata": {},
   "outputs": [
    {
     "name": "stdout",
     "output_type": "stream",
     "text": [
      "[4.268 5.68  3.375 3.562 0.445 6.004]\n",
      "23.334000000000003\n"
     ]
    }
   ],
   "source": [
    "a = [4.268, 5.68,  3.375, 3.562, 0.445, 6.004]\n",
    "print(f\"{np.around(a,3)}\")\n",
    "print(sum(a))"
   ]
  },
  {
   "cell_type": "code",
   "execution_count": 9,
   "metadata": {},
   "outputs": [
    {
     "name": "stdout",
     "output_type": "stream",
     "text": [
      "[4.268 5.68  3.375 3.562 0.445 6.004]\n",
      "23.334000000000003\n"
     ]
    }
   ],
   "source": [
    "b = create_unique_angle(a)\n",
    "print(f\"{np.around(b,3)}\")\n",
    "print(sum(b))"
   ]
  },
  {
   "cell_type": "code",
   "execution_count": 10,
   "metadata": {},
   "outputs": [],
   "source": [
    "c = b.copy()\n",
    "c[0] = 0\n",
    "c[5] += b[0]"
   ]
  },
  {
   "cell_type": "code",
   "execution_count": 11,
   "metadata": {},
   "outputs": [
    {
     "name": "stdout",
     "output_type": "stream",
     "text": [
      "[4.268 5.68  3.375 3.562 0.445 6.004]\n",
      "[4.268 5.68  3.375 3.562 0.445 6.004]\n",
      "[ 0.     5.68   3.375  3.562  0.445 10.272]\n",
      "True\n",
      "False\n",
      "False\n"
     ]
    }
   ],
   "source": [
    "print(f\"{np.around(a,3)}\")\n",
    "print(f\"{np.around(b,3)}\")\n",
    "print(f\"{np.around(c,3)}\")\n",
    "print(rotations_equal(a,b))\n",
    "print(rotations_equal(a,c))\n",
    "print(rotations_equal(b,c))"
   ]
  },
  {
   "cell_type": "code",
   "execution_count": 13,
   "metadata": {},
   "outputs": [
    {
     "data": {
      "text/html": [
       "<div>\n",
       "<style scoped>\n",
       "    .dataframe tbody tr th:only-of-type {\n",
       "        vertical-align: middle;\n",
       "    }\n",
       "\n",
       "    .dataframe tbody tr th {\n",
       "        vertical-align: top;\n",
       "    }\n",
       "\n",
       "    .dataframe thead th {\n",
       "        text-align: right;\n",
       "    }\n",
       "</style>\n",
       "<table border=\"1\" class=\"dataframe\">\n",
       "  <thead>\n",
       "    <tr style=\"text-align: right;\">\n",
       "      <th></th>\n",
       "      <th>seed</th>\n",
       "      <th>final_loss</th>\n",
       "      <th>good_conv</th>\n",
       "    </tr>\n",
       "  </thead>\n",
       "  <tbody>\n",
       "    <tr>\n",
       "      <th>0</th>\n",
       "      <td>0</td>\n",
       "      <td>1.804267</td>\n",
       "      <td>False</td>\n",
       "    </tr>\n",
       "    <tr>\n",
       "      <th>1</th>\n",
       "      <td>1</td>\n",
       "      <td>0.002206</td>\n",
       "      <td>True</td>\n",
       "    </tr>\n",
       "    <tr>\n",
       "      <th>2</th>\n",
       "      <td>2</td>\n",
       "      <td>0.002551</td>\n",
       "      <td>True</td>\n",
       "    </tr>\n",
       "    <tr>\n",
       "      <th>3</th>\n",
       "      <td>3</td>\n",
       "      <td>1.813860</td>\n",
       "      <td>False</td>\n",
       "    </tr>\n",
       "    <tr>\n",
       "      <th>4</th>\n",
       "      <td>4</td>\n",
       "      <td>1.805387</td>\n",
       "      <td>False</td>\n",
       "    </tr>\n",
       "    <tr>\n",
       "      <th>...</th>\n",
       "      <td>...</td>\n",
       "      <td>...</td>\n",
       "      <td>...</td>\n",
       "    </tr>\n",
       "    <tr>\n",
       "      <th>95</th>\n",
       "      <td>95</td>\n",
       "      <td>0.002384</td>\n",
       "      <td>True</td>\n",
       "    </tr>\n",
       "    <tr>\n",
       "      <th>96</th>\n",
       "      <td>96</td>\n",
       "      <td>0.002349</td>\n",
       "      <td>True</td>\n",
       "    </tr>\n",
       "    <tr>\n",
       "      <th>97</th>\n",
       "      <td>97</td>\n",
       "      <td>1.808804</td>\n",
       "      <td>False</td>\n",
       "    </tr>\n",
       "    <tr>\n",
       "      <th>98</th>\n",
       "      <td>98</td>\n",
       "      <td>0.002554</td>\n",
       "      <td>True</td>\n",
       "    </tr>\n",
       "    <tr>\n",
       "      <th>99</th>\n",
       "      <td>99</td>\n",
       "      <td>0.002311</td>\n",
       "      <td>True</td>\n",
       "    </tr>\n",
       "  </tbody>\n",
       "</table>\n",
       "<p>100 rows × 3 columns</p>\n",
       "</div>"
      ],
      "text/plain": [
       "    seed  final_loss  good_conv\n",
       "0      0    1.804267      False\n",
       "1      1    0.002206       True\n",
       "2      2    0.002551       True\n",
       "3      3    1.813860      False\n",
       "4      4    1.805387      False\n",
       "..   ...         ...        ...\n",
       "95    95    0.002384       True\n",
       "96    96    0.002349       True\n",
       "97    97    1.808804      False\n",
       "98    98    0.002554       True\n",
       "99    99    0.002311       True\n",
       "\n",
       "[100 rows x 3 columns]"
      ]
     },
     "execution_count": 13,
     "metadata": {},
     "output_type": "execute_result"
    }
   ],
   "source": [
    "df"
   ]
  },
  {
   "cell_type": "code",
   "execution_count": 14,
   "metadata": {},
   "outputs": [
    {
     "data": {
      "text/plain": [
       "array([7.46021406, 2.58905189, 5.9320024 , 3.06165002, 2.56025736,\n",
       "       3.82164765])"
      ]
     },
     "execution_count": 14,
     "metadata": {},
     "output_type": "execute_result"
    }
   ],
   "source": [
    "a = critical_points[1, :]\n",
    "a"
   ]
  },
  {
   "cell_type": "code",
   "execution_count": 15,
   "metadata": {},
   "outputs": [
    {
     "data": {
      "text/plain": [
       "array([1.17798222, 5.7311303 , 3.49258011, 6.36339684, 5.70202671,\n",
       "       3.82134471])"
      ]
     },
     "execution_count": 15,
     "metadata": {},
     "output_type": "execute_result"
    }
   ],
   "source": [
    "b = critical_points[2, :]\n",
    "b"
   ]
  },
  {
   "cell_type": "code",
   "execution_count": 16,
   "metadata": {},
   "outputs": [
    {
     "data": {
      "text/plain": [
       "array([1.17702875, 2.58905189, 5.9320024 , 3.06165002, 2.56025736,\n",
       "       3.82164765])"
      ]
     },
     "execution_count": 16,
     "metadata": {},
     "output_type": "execute_result"
    }
   ],
   "source": [
    "c = create_unique_angle(a)\n",
    "np.array(c)"
   ]
  },
  {
   "cell_type": "code",
   "execution_count": 17,
   "metadata": {},
   "outputs": [
    {
     "data": {
      "text/plain": [
       "array([1.17798222, 5.7311303 , 3.49258011, 0.08021153, 5.70202671,\n",
       "       3.82134471])"
      ]
     },
     "execution_count": 17,
     "metadata": {},
     "output_type": "execute_result"
    }
   ],
   "source": [
    "d = create_unique_angle(b)\n",
    "np.array(d)"
   ]
  },
  {
   "cell_type": "code",
   "execution_count": 19,
   "metadata": {},
   "outputs": [
    {
     "data": {
      "text/plain": [
       "[[0, 0, 0, 0, 0, 0],\n",
       " [0, 0, 0, 2, 3, 2],\n",
       " [0, 0, 2, 0, 3, 2],\n",
       " [0, 0, 2, 2, 0, 0],\n",
       " [0, 2, 1, 1, 2, 0],\n",
       " [0, 2, 1, 3, 1, 2],\n",
       " [0, 2, 3, 1, 1, 2],\n",
       " [0, 2, 3, 3, 2, 0],\n",
       " [2, 1, 1, 1, 1, 2],\n",
       " [2, 1, 1, 3, 2, 0],\n",
       " [2, 1, 3, 1, 2, 0],\n",
       " [2, 1, 3, 3, 1, 2],\n",
       " [2, 3, 0, 0, 3, 2],\n",
       " [2, 3, 0, 2, 0, 0],\n",
       " [2, 3, 2, 0, 0, 0],\n",
       " [2, 3, 2, 2, 3, 2]]"
      ]
     },
     "execution_count": 19,
     "metadata": {},
     "output_type": "execute_result"
    }
   ],
   "source": [
    "funs = [idd, opp, add_pi, opp_pi]\n",
    "list_comb = []\n",
    "it = [0, 0, 0, 0, 0, 0, 0]\n",
    "while it[0] == 0:\n",
    "    e = np.empty_like(a)\n",
    "    for i in range(6):\n",
    "        e[i] = funs[it[i + 1]](a[i])\n",
    "    if rotations_equal(a, e):\n",
    "        list_comb.append(it[1:])\n",
    "    it[-1] += 1\n",
    "    for i in range(6, -1, -1):\n",
    "        if it[i] == 4:\n",
    "            it[i] = 0\n",
    "            it[i-1] += 1\n",
    "list_comb"
   ]
  },
  {
   "cell_type": "code",
   "execution_count": 20,
   "metadata": {},
   "outputs": [],
   "source": [
    "def create_unique_angle(point):\n",
    "    \"\"\"Constructs the equivalent 6d vector with all positive components\n",
    "    such that their sum is minimum\"\"\"\n",
    "    LIST_FUN = [idd, opp, add_pi, opp_pi]\n",
    "    LIST_EQUIV = [\n",
    "        [0, 0, 0, 0, 0, 0],\n",
    "        [0, 0, 0, 2, 3, 2],\n",
    "        [0, 0, 2, 0, 3, 2],\n",
    "        [0, 0, 2, 2, 0, 0],\n",
    "        [0, 2, 1, 1, 2, 0],\n",
    "        [0, 2, 1, 3, 1, 2],\n",
    "        [0, 2, 3, 1, 1, 2],\n",
    "        [0, 2, 3, 3, 2, 0],\n",
    "        [2, 1, 1, 1, 1, 2],\n",
    "        [2, 1, 1, 3, 2, 0],\n",
    "        [2, 1, 3, 1, 2, 0],\n",
    "        [2, 1, 3, 3, 1, 2],\n",
    "        [2, 3, 0, 0, 3, 2],\n",
    "        [2, 3, 0, 2, 0, 0],\n",
    "        [2, 3, 2, 0, 0, 0],\n",
    "        [2, 3, 2, 2, 3, 2]\n",
    "    ]\n",
    "    point = [x % (2 * np.pi) for x in point]\n",
    "    best_sum = np.inf\n",
    "    best_point = None\n",
    "    for eq in LIST_EQUIV:\n",
    "        x = np.zeros_like(point)\n",
    "        for i in range(6):\n",
    "            x[i] = LIST_FUN[eq[i]](point[i])\n",
    "            if x[i] < 0:\n",
    "                x[i] += 2 * np.pi\n",
    "            elif x[i] > (2 * np.pi):\n",
    "                x[i] -= 2 * np.pi\n",
    "        if sum(x) == best_sum:\n",
    "            # Ties are solved by smaller first components\n",
    "            for i in range(6):\n",
    "                if x[i] == best_point[i]:\n",
    "                    continue\n",
    "                elif x[i] < best_point[i]:\n",
    "                    best_point = x\n",
    "                    break\n",
    "                else:\n",
    "                    break\n",
    "        elif sum(x) < best_sum:\n",
    "            best_point = x\n",
    "            best_sum = sum(x)\n",
    "    return best_point"
   ]
  },
  {
   "cell_type": "code",
   "execution_count": 21,
   "metadata": {},
   "outputs": [
    {
     "data": {
      "text/plain": [
       "(array([[1., 0., 0., 0.],\n",
       "        [0., 1., 0., 0.],\n",
       "        [0., 0., 1., 0.],\n",
       "        [0., 0., 0., 1.]]),\n",
       " array([[-1.0000000e+00, -1.2246468e-16,  0.0000000e+00,  0.0000000e+00],\n",
       "        [ 1.2246468e-16, -1.0000000e+00,  0.0000000e+00,  0.0000000e+00],\n",
       "        [ 0.0000000e+00,  0.0000000e+00, -1.0000000e+00, -1.2246468e-16],\n",
       "        [ 0.0000000e+00,  0.0000000e+00,  1.2246468e-16, -1.0000000e+00]]))"
      ]
     },
     "execution_count": 21,
     "metadata": {},
     "output_type": "execute_result"
    }
   ],
   "source": [
    "rotations_equal([0,0,0,0,0,0], [np.pi,0,0,0,0,np.pi], return_m=True)"
   ]
  },
  {
   "cell_type": "markdown",
   "metadata": {},
   "source": [
    "---"
   ]
  },
  {
   "cell_type": "markdown",
   "metadata": {},
   "source": [
    "## 3. Solving 16 equations (from a 4D rotation matrix)"
   ]
  },
  {
   "cell_type": "markdown",
   "metadata": {},
   "source": [
    "In this notebook we are trying to solve a system of 16 equations using [`SymPy`](https://www.sympy.org/en/index.html) python library.  \n",
    "Given a 4D dimensional matrix, we want to get 6D vector that created it."
   ]
  },
  {
   "cell_type": "code",
   "execution_count": 19,
   "metadata": {},
   "outputs": [],
   "source": [
    "import sympy as sp\n",
    "from sympy import var, Matrix, Eq, solve\n",
    "sp.init_printing()\n",
    "import numpy as np"
   ]
  },
  {
   "cell_type": "code",
   "execution_count": 12,
   "metadata": {},
   "outputs": [],
   "source": [
    "var('''Rxy, cxy, sxy,\n",
    "    Rxz, cxz, sxz,\n",
    "    Rxw, cxw, sxw,\n",
    "    Ryz, cyz, syz,\n",
    "    Ryw, cyw, syw, \n",
    "    Rzw, czw, szw''')\n",
    "\n",
    "Rxy = Matrix([[  cxy,  -sxy, 0.0, 0.0],\n",
    "              [  sxy,   cxy, 0.0, 0.0],\n",
    "              [0.0, 0.0, 1.0, 0.0],\n",
    "              [0.0, 0.0, 0.0, 1.0]])\n",
    "\n",
    "Rxz = Matrix([[  cxz, 0.0,  -sxz, 0.0],\n",
    "           [0.0, 1.0, 0.0, 0.0],\n",
    "           [  sxz, 0.0,   cxz, 0.0],\n",
    "           [0.0, 0.0, 0.0, 1.0]])\n",
    "\n",
    "Rxw = Matrix([[  cxw, 0.0, 0.0,  -sxw],\n",
    "           [0.0, 1.0, 0.0, 0.0],\n",
    "           [0.0, 0.0, 1.0, 0.0],\n",
    "           [  sxw, 0.0, 0.0,  cxw]])\n",
    "\n",
    "Ryz = Matrix([[1.0, 0.0, 0.0, 0.0],\n",
    "           [0.0,   cyz,  -syz, 0.0],\n",
    "           [0.0,   syz,   cyz, 0.0],\n",
    "           [0.0, 0.0, 0.0, 1.0]])\n",
    "\n",
    "Ryw = Matrix([[1.0, 0.0, 0.0, 0.0],\n",
    "           [0.0,   cyw, 0.0,  -syw],\n",
    "           [0.0, 0.0, 1.0, 0.0],\n",
    "           [0.0,   syw, 0.0,  cyw]])\n",
    "\n",
    "Rzw = Matrix([[1.0, 0.0, 0.0, 0.0],\n",
    "           [0.0, 1.0, 0.0, 0.0],\n",
    "           [0.0, 0.0,   czw,  -szw],\n",
    "           [0.0, 0.0,   szw,  czw]])"
   ]
  },
  {
   "cell_type": "code",
   "execution_count": 13,
   "metadata": {},
   "outputs": [],
   "source": [
    "M = Rxy.multiply(Rxz).multiply(Rxw).multiply(Ryz).multiply(Ryw).multiply(Rzw)"
   ]
  },
  {
   "cell_type": "code",
   "execution_count": 14,
   "metadata": {},
   "outputs": [
    {
     "data": {
      "text/latex": [
       "$\\displaystyle \\left[\\begin{matrix}1.0 cxw cxy cxz & - 1.0 cxy cxz sxw syw + 1.0 cyw \\left(- 1.0 cxy sxz syz - 1.0 cyz sxy\\right) & czw \\left(- 1.0 cxy cyz sxz + 1.0 sxy syz\\right) + szw \\left(- 1.0 cxy cxz cyw sxw - syw \\left(- 1.0 cxy sxz syz - 1.0 cyz sxy\\right)\\right) & czw \\left(- 1.0 cxy cxz cyw sxw - syw \\left(- 1.0 cxy sxz syz - 1.0 cyz sxy\\right)\\right) - szw \\left(- 1.0 cxy cyz sxz + 1.0 sxy syz\\right)\\\\1.0 cxw cxz sxy & - 1.0 cxz sxw sxy syw + 1.0 cyw \\left(1.0 cxy cyz - 1.0 sxy sxz syz\\right) & czw \\left(- 1.0 cxy syz - 1.0 cyz sxy sxz\\right) + szw \\left(- 1.0 cxz cyw sxw sxy - syw \\left(1.0 cxy cyz - 1.0 sxy sxz syz\\right)\\right) & czw \\left(- 1.0 cxz cyw sxw sxy - syw \\left(1.0 cxy cyz - 1.0 sxy sxz syz\\right)\\right) - szw \\left(- 1.0 cxy syz - 1.0 cyz sxy sxz\\right)\\\\1.0 cxw sxz & 1.0 cxz cyw syz - 1.0 sxw sxz syw & 1.0 cxz cyz czw + szw \\left(- 1.0 cxz syw syz - 1.0 cyw sxw sxz\\right) & - 1.0 cxz cyz szw + czw \\left(- 1.0 cxz syw syz - 1.0 cyw sxw sxz\\right)\\\\1.0 sxw & 1.0 cxw syw & 1.0 cxw cyw szw & 1.0 cxw cyw czw\\end{matrix}\\right]$"
      ],
      "text/plain": [
       "⎡1.0⋅cxw⋅cxy⋅cxz  -1.0⋅cxy⋅cxz⋅sxw⋅syw + 1.0⋅cyw⋅(-1.0⋅cxy⋅sxz⋅syz - 1.0⋅cyz⋅s\n",
       "⎢                                                                             \n",
       "⎢1.0⋅cxw⋅cxz⋅sxy  -1.0⋅cxz⋅sxw⋅sxy⋅syw + 1.0⋅cyw⋅(1.0⋅cxy⋅cyz - 1.0⋅sxy⋅sxz⋅sy\n",
       "⎢                                                                             \n",
       "⎢  1.0⋅cxw⋅sxz                   1.0⋅cxz⋅cyw⋅syz - 1.0⋅sxw⋅sxz⋅syw            \n",
       "⎢                                                                             \n",
       "⎣    1.0⋅sxw                                1.0⋅cxw⋅syw                       \n",
       "\n",
       "xy)  czw⋅(-1.0⋅cxy⋅cyz⋅sxz + 1.0⋅sxy⋅syz) + szw⋅(-1.0⋅cxy⋅cxz⋅cyw⋅sxw - syw⋅(-\n",
       "                                                                              \n",
       "z)   czw⋅(-1.0⋅cxy⋅syz - 1.0⋅cyz⋅sxy⋅sxz) + szw⋅(-1.0⋅cxz⋅cyw⋅sxw⋅sxy - syw⋅(1\n",
       "                                                                              \n",
       "                            1.0⋅cxz⋅cyz⋅czw + szw⋅(-1.0⋅cxz⋅syw⋅syz - 1.0⋅cyw⋅\n",
       "                                                                              \n",
       "                                                 1.0⋅cxw⋅cyw⋅szw              \n",
       "\n",
       "1.0⋅cxy⋅sxz⋅syz - 1.0⋅cyz⋅sxy))  czw⋅(-1.0⋅cxy⋅cxz⋅cyw⋅sxw - syw⋅(-1.0⋅cxy⋅sxz\n",
       "                                                                              \n",
       ".0⋅cxy⋅cyz - 1.0⋅sxy⋅sxz⋅syz))   czw⋅(-1.0⋅cxz⋅cyw⋅sxw⋅sxy - syw⋅(1.0⋅cxy⋅cyz \n",
       "                                                                              \n",
       "sxw⋅sxz)                                               -1.0⋅cxz⋅cyz⋅szw + czw⋅\n",
       "                                                                              \n",
       "                                                                             1\n",
       "\n",
       "⋅syz - 1.0⋅cyz⋅sxy)) - szw⋅(-1.0⋅cxy⋅cyz⋅sxz + 1.0⋅sxy⋅syz)⎤\n",
       "                                                           ⎥\n",
       "- 1.0⋅sxy⋅sxz⋅syz)) - szw⋅(-1.0⋅cxy⋅syz - 1.0⋅cyz⋅sxy⋅sxz) ⎥\n",
       "                                                           ⎥\n",
       "(-1.0⋅cxz⋅syw⋅syz - 1.0⋅cyw⋅sxw⋅sxz)                       ⎥\n",
       "                                                           ⎥\n",
       ".0⋅cxw⋅cyw⋅czw                                             ⎦"
      ]
     },
     "execution_count": 14,
     "metadata": {},
     "output_type": "execute_result"
    }
   ],
   "source": [
    "M"
   ]
  },
  {
   "cell_type": "code",
   "execution_count": 15,
   "metadata": {},
   "outputs": [],
   "source": [
    "path = '../results/alignment/trajectories/'\n",
    "#path = 'optML_miniproject/results/alignment/trajectories/'\n",
    "file = np.load(path+'0.npy')"
   ]
  },
  {
   "cell_type": "code",
   "execution_count": 16,
   "metadata": {},
   "outputs": [],
   "source": [
    "def euler6tomarix4d(a_R):\n",
    "    \"\"\" Convert 6D vector containing angles to 4D rotation matrix\n",
    "\n",
    "    a_R: tf.tensor/np.ndarray\n",
    "        Vector of shape (6,)\n",
    "\n",
    "    Returns\n",
    "    -------\n",
    "    R: tf.tensor/np.ndarray\n",
    "        4x4 Rotation matrix corresponding to these 6 angles of rotations\n",
    "    \"\"\"\n",
    "    xy, xz, xw, yz, yw, zw = a_R\n",
    "\n",
    "    cxy = np.cos(xy)\n",
    "    cxz = np.cos(xz)\n",
    "    cxw = np.cos(xw)\n",
    "    cyz = np.cos(yz)\n",
    "    cyw = np.cos(yw)\n",
    "    czw = np.cos(zw)\n",
    "\n",
    "    sxy = np.sin(xy)\n",
    "    sxz = np.sin(xz)\n",
    "    sxw = np.sin(xw)\n",
    "    syz = np.sin(yz)\n",
    "    syw = np.sin(yw)\n",
    "    szw = np.sin(zw)\n",
    "\n",
    "    # Note: wasn't able to create it as simple as np.ndarrays...\n",
    "    Rxy = np.array([[  cxy,  -sxy, 0.0, 0.0],\n",
    "              [  sxy,   cxy, 0.0, 0.0],\n",
    "              [0.0, 0.0, 1.0, 0.0],\n",
    "              [0.0, 0.0, 0.0, 1.0]])\n",
    "\n",
    "    Rxz = np.array([[  cxz, 0.0,  -sxz, 0.0],\n",
    "               [0.0, 1.0, 0.0, 0.0],\n",
    "               [  sxz, 0.0,   cxz, 0.0],\n",
    "               [0.0, 0.0, 0.0, 1.0]])\n",
    "\n",
    "    Rxw = np.array([[  cxw, 0.0, 0.0,  -sxw],\n",
    "               [0.0, 1.0, 0.0, 0.0],\n",
    "               [0.0, 0.0, 1.0, 0.0],\n",
    "               [  sxw, 0.0, 0.0,  cxw]])\n",
    "\n",
    "    Ryz = np.array([[1.0, 0.0, 0.0, 0.0],\n",
    "               [0.0,   cyz,  -syz, 0.0],\n",
    "               [0.0,   syz,   cyz, 0.0],\n",
    "               [0.0, 0.0, 0.0, 1.0]])\n",
    "\n",
    "    Ryw = np.array([[1.0, 0.0, 0.0, 0.0],\n",
    "               [0.0,   cyw, 0.0,  -syw],\n",
    "               [0.0, 0.0, 1.0, 0.0],\n",
    "               [0.0,   syw, 0.0,  cyw]])\n",
    "\n",
    "    Rzw = np.array([[1.0, 0.0, 0.0, 0.0],\n",
    "               [0.0, 1.0, 0.0, 0.0],\n",
    "               [0.0, 0.0,   czw,  -szw],\n",
    "               [0.0, 0.0,   szw,  czw]])\n",
    "\n",
    "    R = Rxy @ Rxz @ Rxw @ Ryz @ Ryw @ Rzw\n",
    "\n",
    "    return R"
   ]
  },
  {
   "cell_type": "code",
   "execution_count": 60,
   "metadata": {},
   "outputs": [],
   "source": [
    "R = euler6tomarix4d(file[-1,:])"
   ]
  },
  {
   "cell_type": "code",
   "execution_count": 61,
   "metadata": {},
   "outputs": [
    {
     "data": {
      "text/plain": [
       "array([[ 0.34439141, -0.6893094 ,  0.50239565,  0.39223172],\n",
       "       [ 0.72365664,  0.46871384,  0.39482803, -0.31739443],\n",
       "       [ 0.55168842, -0.35996205, -0.73005563, -0.18189554],\n",
       "       [-0.23098812, -0.41903128,  0.24233904, -0.84399589]])"
      ]
     },
     "execution_count": 61,
     "metadata": {},
     "output_type": "execute_result"
    }
   ],
   "source": [
    "R"
   ]
  },
  {
   "cell_type": "code",
   "execution_count": 52,
   "metadata": {},
   "outputs": [],
   "source": [
    "R = np.eye(4).astype(np.int)"
   ]
  },
  {
   "cell_type": "code",
   "execution_count": 63,
   "metadata": {},
   "outputs": [
    {
     "data": {
      "text/latex": [
       "$\\displaystyle \\left[\\begin{matrix}1.0 cxw cxy cxz & - 1.0 cxy cxz sxw syw + 1.0 cyw \\left(- 1.0 cxy sxz syz - 1.0 cyz sxy\\right) & czw \\left(- 1.0 cxy cyz sxz + 1.0 sxy syz\\right) + szw \\left(- 1.0 cxy cxz cyw sxw - syw \\left(- 1.0 cxy sxz syz - 1.0 cyz sxy\\right)\\right) & czw \\left(- 1.0 cxy cxz cyw sxw - syw \\left(- 1.0 cxy sxz syz - 1.0 cyz sxy\\right)\\right) - szw \\left(- 1.0 cxy cyz sxz + 1.0 sxy syz\\right)\\\\1.0 cxw cxz sxy & - 1.0 cxz sxw sxy syw + 1.0 cyw \\left(1.0 cxy cyz - 1.0 sxy sxz syz\\right) & czw \\left(- 1.0 cxy syz - 1.0 cyz sxy sxz\\right) + szw \\left(- 1.0 cxz cyw sxw sxy - syw \\left(1.0 cxy cyz - 1.0 sxy sxz syz\\right)\\right) & czw \\left(- 1.0 cxz cyw sxw sxy - syw \\left(1.0 cxy cyz - 1.0 sxy sxz syz\\right)\\right) - szw \\left(- 1.0 cxy syz - 1.0 cyz sxy sxz\\right)\\\\1.0 cxw sxz & 1.0 cxz cyw syz - 1.0 sxw sxz syw & 1.0 cxz cyz czw + szw \\left(- 1.0 cxz syw syz - 1.0 cyw sxw sxz\\right) & - 1.0 cxz cyz szw + czw \\left(- 1.0 cxz syw syz - 1.0 cyw sxw sxz\\right)\\\\1.0 sxw & 1.0 cxw syw & 1.0 cxw cyw szw & 1.0 cxw cyw czw\\end{matrix}\\right]$"
      ],
      "text/plain": [
       "⎡1.0⋅cxw⋅cxy⋅cxz  -1.0⋅cxy⋅cxz⋅sxw⋅syw + 1.0⋅cyw⋅(-1.0⋅cxy⋅sxz⋅syz - 1.0⋅cyz⋅s\n",
       "⎢                                                                             \n",
       "⎢1.0⋅cxw⋅cxz⋅sxy  -1.0⋅cxz⋅sxw⋅sxy⋅syw + 1.0⋅cyw⋅(1.0⋅cxy⋅cyz - 1.0⋅sxy⋅sxz⋅sy\n",
       "⎢                                                                             \n",
       "⎢  1.0⋅cxw⋅sxz                   1.0⋅cxz⋅cyw⋅syz - 1.0⋅sxw⋅sxz⋅syw            \n",
       "⎢                                                                             \n",
       "⎣    1.0⋅sxw                                1.0⋅cxw⋅syw                       \n",
       "\n",
       "xy)  czw⋅(-1.0⋅cxy⋅cyz⋅sxz + 1.0⋅sxy⋅syz) + szw⋅(-1.0⋅cxy⋅cxz⋅cyw⋅sxw - syw⋅(-\n",
       "                                                                              \n",
       "z)   czw⋅(-1.0⋅cxy⋅syz - 1.0⋅cyz⋅sxy⋅sxz) + szw⋅(-1.0⋅cxz⋅cyw⋅sxw⋅sxy - syw⋅(1\n",
       "                                                                              \n",
       "                            1.0⋅cxz⋅cyz⋅czw + szw⋅(-1.0⋅cxz⋅syw⋅syz - 1.0⋅cyw⋅\n",
       "                                                                              \n",
       "                                                 1.0⋅cxw⋅cyw⋅szw              \n",
       "\n",
       "1.0⋅cxy⋅sxz⋅syz - 1.0⋅cyz⋅sxy))  czw⋅(-1.0⋅cxy⋅cxz⋅cyw⋅sxw - syw⋅(-1.0⋅cxy⋅sxz\n",
       "                                                                              \n",
       ".0⋅cxy⋅cyz - 1.0⋅sxy⋅sxz⋅syz))   czw⋅(-1.0⋅cxz⋅cyw⋅sxw⋅sxy - syw⋅(1.0⋅cxy⋅cyz \n",
       "                                                                              \n",
       "sxw⋅sxz)                                               -1.0⋅cxz⋅cyz⋅szw + czw⋅\n",
       "                                                                              \n",
       "                                                                             1\n",
       "\n",
       "⋅syz - 1.0⋅cyz⋅sxy)) - szw⋅(-1.0⋅cxy⋅cyz⋅sxz + 1.0⋅sxy⋅syz)⎤\n",
       "                                                           ⎥\n",
       "- 1.0⋅sxy⋅sxz⋅syz)) - szw⋅(-1.0⋅cxy⋅syz - 1.0⋅cyz⋅sxy⋅sxz) ⎥\n",
       "                                                           ⎥\n",
       "(-1.0⋅cxz⋅syw⋅syz - 1.0⋅cyw⋅sxw⋅sxz)                       ⎥\n",
       "                                                           ⎥\n",
       ".0⋅cxw⋅cyw⋅czw                                             ⎦"
      ]
     },
     "execution_count": 63,
     "metadata": {},
     "output_type": "execute_result"
    }
   ],
   "source": [
    "M"
   ]
  },
  {
   "cell_type": "code",
   "execution_count": 64,
   "metadata": {},
   "outputs": [
    {
     "data": {
      "text/latex": [
       "$\\displaystyle \\left[ \\right]$"
      ],
      "text/plain": [
       "[]"
      ]
     },
     "execution_count": 64,
     "metadata": {},
     "output_type": "execute_result"
    }
   ],
   "source": [
    "a = Eq(M[0,0],R[0,0])\n",
    "b = Eq(M[0,1],R[0,1])\n",
    "c = Eq(M[0,2],R[0,2])\n",
    "d = Eq(M[0,3],R[0,3])\n",
    "e = Eq(M[1,0],R[1,0])\n",
    "f = Eq(M[1,1],R[1,1])\n",
    "g = Eq(M[1,2],R[1,2])\n",
    "h = Eq(M[1,3],R[1,3])\n",
    "i = Eq(M[2,0],R[2,0])\n",
    "j = Eq(M[2,1],R[2,1])\n",
    "k = Eq(M[2,2],R[2,2])\n",
    "l = Eq(M[2,3],R[2,3])\n",
    "m = Eq(M[3,0],R[3,0])\n",
    "n = Eq(M[3,1],R[3,1])\n",
    "o = Eq(M[3,2],R[3,2])\n",
    "p = Eq(M[3,3],R[3,3])\n",
    "\n",
    "\n",
    "solve([a,b,c,d,e,f,g,h,i,j,k,l,m,n,o,p],(cxy, sxy,cxz, sxz,cxw, sxw,cyz, syz,cyw, syw, czw, szw), simplify=False, rational=False)"
   ]
  },
  {
   "cell_type": "markdown",
   "metadata": {},
   "source": [
    "#### Conclustion: \n",
    "We are unable to get the 6D vector by solving these 16 equations."
   ]
  }
 ],
 "metadata": {
  "kernelspec": {
   "display_name": "Python 3",
   "language": "python",
   "name": "python3"
  },
  "language_info": {
   "codemirror_mode": {
    "name": "ipython",
    "version": 3
   },
   "file_extension": ".py",
   "mimetype": "text/x-python",
   "name": "python",
   "nbconvert_exporter": "python",
   "pygments_lexer": "ipython3",
   "version": "3.8.2"
  }
 },
 "nbformat": 4,
 "nbformat_minor": 4
}
