{
 "cells": [
  {
   "cell_type": "code",
   "execution_count": 19,
   "metadata": {},
   "outputs": [],
   "source": [
    "import sympy as sp\n",
    "from sympy import var, Matrix, Eq, solve\n",
    "sp.init_printing()\n",
    "import numpy as np"
   ]
  },
  {
   "cell_type": "code",
   "execution_count": 12,
   "metadata": {},
   "outputs": [],
   "source": [
    "var('''Rxy, cxy, sxy,\n",
    "    Rxz, cxz, sxz,\n",
    "    Rxw, cxw, sxw,\n",
    "    Ryz, cyz, syz,\n",
    "    Ryw, cyw, syw, \n",
    "    Rzw, czw, szw''')\n",
    "\n",
    "Rxy = Matrix([[  cxy,  -sxy, 0.0, 0.0],\n",
    "              [  sxy,   cxy, 0.0, 0.0],\n",
    "              [0.0, 0.0, 1.0, 0.0],\n",
    "              [0.0, 0.0, 0.0, 1.0]])\n",
    "\n",
    "Rxz = Matrix([[  cxz, 0.0,  -sxz, 0.0],\n",
    "           [0.0, 1.0, 0.0, 0.0],\n",
    "           [  sxz, 0.0,   cxz, 0.0],\n",
    "           [0.0, 0.0, 0.0, 1.0]])\n",
    "\n",
    "Rxw = Matrix([[  cxw, 0.0, 0.0,  -sxw],\n",
    "           [0.0, 1.0, 0.0, 0.0],\n",
    "           [0.0, 0.0, 1.0, 0.0],\n",
    "           [  sxw, 0.0, 0.0,  cxw]])\n",
    "\n",
    "Ryz = Matrix([[1.0, 0.0, 0.0, 0.0],\n",
    "           [0.0,   cyz,  -syz, 0.0],\n",
    "           [0.0,   syz,   cyz, 0.0],\n",
    "           [0.0, 0.0, 0.0, 1.0]])\n",
    "\n",
    "Ryw = Matrix([[1.0, 0.0, 0.0, 0.0],\n",
    "           [0.0,   cyw, 0.0,  -syw],\n",
    "           [0.0, 0.0, 1.0, 0.0],\n",
    "           [0.0,   syw, 0.0,  cyw]])\n",
    "\n",
    "Rzw = Matrix([[1.0, 0.0, 0.0, 0.0],\n",
    "           [0.0, 1.0, 0.0, 0.0],\n",
    "           [0.0, 0.0,   czw,  -szw],\n",
    "           [0.0, 0.0,   szw,  czw]])"
   ]
  },
  {
   "cell_type": "code",
   "execution_count": 13,
   "metadata": {},
   "outputs": [],
   "source": [
    "M = Rxy.multiply(Rxz).multiply(Rxw).multiply(Ryz).multiply(Ryw).multiply(Rzw)"
   ]
  },
  {
   "cell_type": "code",
   "execution_count": 14,
   "metadata": {},
   "outputs": [
    {
     "data": {
      "text/latex": [
       "$\\displaystyle \\left[\\begin{matrix}1.0 cxw cxy cxz & - 1.0 cxy cxz sxw syw + 1.0 cyw \\left(- 1.0 cxy sxz syz - 1.0 cyz sxy\\right) & czw \\left(- 1.0 cxy cyz sxz + 1.0 sxy syz\\right) + szw \\left(- 1.0 cxy cxz cyw sxw - syw \\left(- 1.0 cxy sxz syz - 1.0 cyz sxy\\right)\\right) & czw \\left(- 1.0 cxy cxz cyw sxw - syw \\left(- 1.0 cxy sxz syz - 1.0 cyz sxy\\right)\\right) - szw \\left(- 1.0 cxy cyz sxz + 1.0 sxy syz\\right)\\\\1.0 cxw cxz sxy & - 1.0 cxz sxw sxy syw + 1.0 cyw \\left(1.0 cxy cyz - 1.0 sxy sxz syz\\right) & czw \\left(- 1.0 cxy syz - 1.0 cyz sxy sxz\\right) + szw \\left(- 1.0 cxz cyw sxw sxy - syw \\left(1.0 cxy cyz - 1.0 sxy sxz syz\\right)\\right) & czw \\left(- 1.0 cxz cyw sxw sxy - syw \\left(1.0 cxy cyz - 1.0 sxy sxz syz\\right)\\right) - szw \\left(- 1.0 cxy syz - 1.0 cyz sxy sxz\\right)\\\\1.0 cxw sxz & 1.0 cxz cyw syz - 1.0 sxw sxz syw & 1.0 cxz cyz czw + szw \\left(- 1.0 cxz syw syz - 1.0 cyw sxw sxz\\right) & - 1.0 cxz cyz szw + czw \\left(- 1.0 cxz syw syz - 1.0 cyw sxw sxz\\right)\\\\1.0 sxw & 1.0 cxw syw & 1.0 cxw cyw szw & 1.0 cxw cyw czw\\end{matrix}\\right]$"
      ],
      "text/plain": [
       "⎡1.0⋅cxw⋅cxy⋅cxz  -1.0⋅cxy⋅cxz⋅sxw⋅syw + 1.0⋅cyw⋅(-1.0⋅cxy⋅sxz⋅syz - 1.0⋅cyz⋅s\n",
       "⎢                                                                             \n",
       "⎢1.0⋅cxw⋅cxz⋅sxy  -1.0⋅cxz⋅sxw⋅sxy⋅syw + 1.0⋅cyw⋅(1.0⋅cxy⋅cyz - 1.0⋅sxy⋅sxz⋅sy\n",
       "⎢                                                                             \n",
       "⎢  1.0⋅cxw⋅sxz                   1.0⋅cxz⋅cyw⋅syz - 1.0⋅sxw⋅sxz⋅syw            \n",
       "⎢                                                                             \n",
       "⎣    1.0⋅sxw                                1.0⋅cxw⋅syw                       \n",
       "\n",
       "xy)  czw⋅(-1.0⋅cxy⋅cyz⋅sxz + 1.0⋅sxy⋅syz) + szw⋅(-1.0⋅cxy⋅cxz⋅cyw⋅sxw - syw⋅(-\n",
       "                                                                              \n",
       "z)   czw⋅(-1.0⋅cxy⋅syz - 1.0⋅cyz⋅sxy⋅sxz) + szw⋅(-1.0⋅cxz⋅cyw⋅sxw⋅sxy - syw⋅(1\n",
       "                                                                              \n",
       "                            1.0⋅cxz⋅cyz⋅czw + szw⋅(-1.0⋅cxz⋅syw⋅syz - 1.0⋅cyw⋅\n",
       "                                                                              \n",
       "                                                 1.0⋅cxw⋅cyw⋅szw              \n",
       "\n",
       "1.0⋅cxy⋅sxz⋅syz - 1.0⋅cyz⋅sxy))  czw⋅(-1.0⋅cxy⋅cxz⋅cyw⋅sxw - syw⋅(-1.0⋅cxy⋅sxz\n",
       "                                                                              \n",
       ".0⋅cxy⋅cyz - 1.0⋅sxy⋅sxz⋅syz))   czw⋅(-1.0⋅cxz⋅cyw⋅sxw⋅sxy - syw⋅(1.0⋅cxy⋅cyz \n",
       "                                                                              \n",
       "sxw⋅sxz)                                               -1.0⋅cxz⋅cyz⋅szw + czw⋅\n",
       "                                                                              \n",
       "                                                                             1\n",
       "\n",
       "⋅syz - 1.0⋅cyz⋅sxy)) - szw⋅(-1.0⋅cxy⋅cyz⋅sxz + 1.0⋅sxy⋅syz)⎤\n",
       "                                                           ⎥\n",
       "- 1.0⋅sxy⋅sxz⋅syz)) - szw⋅(-1.0⋅cxy⋅syz - 1.0⋅cyz⋅sxy⋅sxz) ⎥\n",
       "                                                           ⎥\n",
       "(-1.0⋅cxz⋅syw⋅syz - 1.0⋅cyw⋅sxw⋅sxz)                       ⎥\n",
       "                                                           ⎥\n",
       ".0⋅cxw⋅cyw⋅czw                                             ⎦"
      ]
     },
     "execution_count": 14,
     "metadata": {},
     "output_type": "execute_result"
    }
   ],
   "source": [
    "M"
   ]
  },
  {
   "cell_type": "code",
   "execution_count": 15,
   "metadata": {},
   "outputs": [],
   "source": [
    "path = '../results/alignment/trajectories/'\n",
    "#path = 'optML_miniproject/results/alignment/trajectories/'\n",
    "file = np.load(path+'0.npy')"
   ]
  },
  {
   "cell_type": "code",
   "execution_count": 16,
   "metadata": {},
   "outputs": [],
   "source": [
    "def euler6tomarix4d(a_R):\n",
    "    \"\"\" Convert 6D vector containing angles to 4D rotation matrix\n",
    "\n",
    "    a_R: tf.tensor/np.ndarray\n",
    "        Vector of shape (6,)\n",
    "\n",
    "    Returns\n",
    "    -------\n",
    "    R: tf.tensor/np.ndarray\n",
    "        4x4 Rotation matrix corresponding to these 6 angles of rotations\n",
    "    \"\"\"\n",
    "    xy, xz, xw, yz, yw, zw = a_R\n",
    "\n",
    "    cxy = np.cos(xy)\n",
    "    cxz = np.cos(xz)\n",
    "    cxw = np.cos(xw)\n",
    "    cyz = np.cos(yz)\n",
    "    cyw = np.cos(yw)\n",
    "    czw = np.cos(zw)\n",
    "\n",
    "    sxy = np.sin(xy)\n",
    "    sxz = np.sin(xz)\n",
    "    sxw = np.sin(xw)\n",
    "    syz = np.sin(yz)\n",
    "    syw = np.sin(yw)\n",
    "    szw = np.sin(zw)\n",
    "\n",
    "    # Note: wasn't able to create it as simple as np.ndarrays...\n",
    "    Rxy = np.array([[  cxy,  -sxy, 0.0, 0.0],\n",
    "              [  sxy,   cxy, 0.0, 0.0],\n",
    "              [0.0, 0.0, 1.0, 0.0],\n",
    "              [0.0, 0.0, 0.0, 1.0]])\n",
    "\n",
    "    Rxz = np.array([[  cxz, 0.0,  -sxz, 0.0],\n",
    "               [0.0, 1.0, 0.0, 0.0],\n",
    "               [  sxz, 0.0,   cxz, 0.0],\n",
    "               [0.0, 0.0, 0.0, 1.0]])\n",
    "\n",
    "    Rxw = np.array([[  cxw, 0.0, 0.0,  -sxw],\n",
    "               [0.0, 1.0, 0.0, 0.0],\n",
    "               [0.0, 0.0, 1.0, 0.0],\n",
    "               [  sxw, 0.0, 0.0,  cxw]])\n",
    "\n",
    "    Ryz = np.array([[1.0, 0.0, 0.0, 0.0],\n",
    "               [0.0,   cyz,  -syz, 0.0],\n",
    "               [0.0,   syz,   cyz, 0.0],\n",
    "               [0.0, 0.0, 0.0, 1.0]])\n",
    "\n",
    "    Ryw = np.array([[1.0, 0.0, 0.0, 0.0],\n",
    "               [0.0,   cyw, 0.0,  -syw],\n",
    "               [0.0, 0.0, 1.0, 0.0],\n",
    "               [0.0,   syw, 0.0,  cyw]])\n",
    "\n",
    "    Rzw = np.array([[1.0, 0.0, 0.0, 0.0],\n",
    "               [0.0, 1.0, 0.0, 0.0],\n",
    "               [0.0, 0.0,   czw,  -szw],\n",
    "               [0.0, 0.0,   szw,  czw]])\n",
    "\n",
    "    R = Rxy @ Rxz @ Rxw @ Ryz @ Ryw @ Rzw\n",
    "\n",
    "    return R"
   ]
  },
  {
   "cell_type": "code",
   "execution_count": 60,
   "metadata": {},
   "outputs": [],
   "source": [
    "R = euler6tomarix4d(file[-1,:])"
   ]
  },
  {
   "cell_type": "code",
   "execution_count": 61,
   "metadata": {},
   "outputs": [
    {
     "data": {
      "text/plain": [
       "array([[ 0.34439141, -0.6893094 ,  0.50239565,  0.39223172],\n",
       "       [ 0.72365664,  0.46871384,  0.39482803, -0.31739443],\n",
       "       [ 0.55168842, -0.35996205, -0.73005563, -0.18189554],\n",
       "       [-0.23098812, -0.41903128,  0.24233904, -0.84399589]])"
      ]
     },
     "execution_count": 61,
     "metadata": {},
     "output_type": "execute_result"
    }
   ],
   "source": [
    "R"
   ]
  },
  {
   "cell_type": "code",
   "execution_count": 52,
   "metadata": {},
   "outputs": [],
   "source": [
    "R = np.eye(4).astype(np.int)"
   ]
  },
  {
   "cell_type": "code",
   "execution_count": 63,
   "metadata": {},
   "outputs": [
    {
     "data": {
      "text/latex": [
       "$\\displaystyle \\left[\\begin{matrix}1.0 cxw cxy cxz & - 1.0 cxy cxz sxw syw + 1.0 cyw \\left(- 1.0 cxy sxz syz - 1.0 cyz sxy\\right) & czw \\left(- 1.0 cxy cyz sxz + 1.0 sxy syz\\right) + szw \\left(- 1.0 cxy cxz cyw sxw - syw \\left(- 1.0 cxy sxz syz - 1.0 cyz sxy\\right)\\right) & czw \\left(- 1.0 cxy cxz cyw sxw - syw \\left(- 1.0 cxy sxz syz - 1.0 cyz sxy\\right)\\right) - szw \\left(- 1.0 cxy cyz sxz + 1.0 sxy syz\\right)\\\\1.0 cxw cxz sxy & - 1.0 cxz sxw sxy syw + 1.0 cyw \\left(1.0 cxy cyz - 1.0 sxy sxz syz\\right) & czw \\left(- 1.0 cxy syz - 1.0 cyz sxy sxz\\right) + szw \\left(- 1.0 cxz cyw sxw sxy - syw \\left(1.0 cxy cyz - 1.0 sxy sxz syz\\right)\\right) & czw \\left(- 1.0 cxz cyw sxw sxy - syw \\left(1.0 cxy cyz - 1.0 sxy sxz syz\\right)\\right) - szw \\left(- 1.0 cxy syz - 1.0 cyz sxy sxz\\right)\\\\1.0 cxw sxz & 1.0 cxz cyw syz - 1.0 sxw sxz syw & 1.0 cxz cyz czw + szw \\left(- 1.0 cxz syw syz - 1.0 cyw sxw sxz\\right) & - 1.0 cxz cyz szw + czw \\left(- 1.0 cxz syw syz - 1.0 cyw sxw sxz\\right)\\\\1.0 sxw & 1.0 cxw syw & 1.0 cxw cyw szw & 1.0 cxw cyw czw\\end{matrix}\\right]$"
      ],
      "text/plain": [
       "⎡1.0⋅cxw⋅cxy⋅cxz  -1.0⋅cxy⋅cxz⋅sxw⋅syw + 1.0⋅cyw⋅(-1.0⋅cxy⋅sxz⋅syz - 1.0⋅cyz⋅s\n",
       "⎢                                                                             \n",
       "⎢1.0⋅cxw⋅cxz⋅sxy  -1.0⋅cxz⋅sxw⋅sxy⋅syw + 1.0⋅cyw⋅(1.0⋅cxy⋅cyz - 1.0⋅sxy⋅sxz⋅sy\n",
       "⎢                                                                             \n",
       "⎢  1.0⋅cxw⋅sxz                   1.0⋅cxz⋅cyw⋅syz - 1.0⋅sxw⋅sxz⋅syw            \n",
       "⎢                                                                             \n",
       "⎣    1.0⋅sxw                                1.0⋅cxw⋅syw                       \n",
       "\n",
       "xy)  czw⋅(-1.0⋅cxy⋅cyz⋅sxz + 1.0⋅sxy⋅syz) + szw⋅(-1.0⋅cxy⋅cxz⋅cyw⋅sxw - syw⋅(-\n",
       "                                                                              \n",
       "z)   czw⋅(-1.0⋅cxy⋅syz - 1.0⋅cyz⋅sxy⋅sxz) + szw⋅(-1.0⋅cxz⋅cyw⋅sxw⋅sxy - syw⋅(1\n",
       "                                                                              \n",
       "                            1.0⋅cxz⋅cyz⋅czw + szw⋅(-1.0⋅cxz⋅syw⋅syz - 1.0⋅cyw⋅\n",
       "                                                                              \n",
       "                                                 1.0⋅cxw⋅cyw⋅szw              \n",
       "\n",
       "1.0⋅cxy⋅sxz⋅syz - 1.0⋅cyz⋅sxy))  czw⋅(-1.0⋅cxy⋅cxz⋅cyw⋅sxw - syw⋅(-1.0⋅cxy⋅sxz\n",
       "                                                                              \n",
       ".0⋅cxy⋅cyz - 1.0⋅sxy⋅sxz⋅syz))   czw⋅(-1.0⋅cxz⋅cyw⋅sxw⋅sxy - syw⋅(1.0⋅cxy⋅cyz \n",
       "                                                                              \n",
       "sxw⋅sxz)                                               -1.0⋅cxz⋅cyz⋅szw + czw⋅\n",
       "                                                                              \n",
       "                                                                             1\n",
       "\n",
       "⋅syz - 1.0⋅cyz⋅sxy)) - szw⋅(-1.0⋅cxy⋅cyz⋅sxz + 1.0⋅sxy⋅syz)⎤\n",
       "                                                           ⎥\n",
       "- 1.0⋅sxy⋅sxz⋅syz)) - szw⋅(-1.0⋅cxy⋅syz - 1.0⋅cyz⋅sxy⋅sxz) ⎥\n",
       "                                                           ⎥\n",
       "(-1.0⋅cxz⋅syw⋅syz - 1.0⋅cyw⋅sxw⋅sxz)                       ⎥\n",
       "                                                           ⎥\n",
       ".0⋅cxw⋅cyw⋅czw                                             ⎦"
      ]
     },
     "execution_count": 63,
     "metadata": {},
     "output_type": "execute_result"
    }
   ],
   "source": [
    "M"
   ]
  },
  {
   "cell_type": "code",
   "execution_count": 64,
   "metadata": {},
   "outputs": [
    {
     "data": {
      "text/latex": [
       "$\\displaystyle \\left[ \\right]$"
      ],
      "text/plain": [
       "[]"
      ]
     },
     "execution_count": 64,
     "metadata": {},
     "output_type": "execute_result"
    }
   ],
   "source": [
    "a = Eq(M[0,0],R[0,0])\n",
    "b = Eq(M[0,1],R[0,1])\n",
    "c = Eq(M[0,2],R[0,2])\n",
    "d = Eq(M[0,3],R[0,3])\n",
    "e = Eq(M[1,0],R[1,0])\n",
    "f = Eq(M[1,1],R[1,1])\n",
    "g = Eq(M[1,2],R[1,2])\n",
    "h = Eq(M[1,3],R[1,3])\n",
    "i = Eq(M[2,0],R[2,0])\n",
    "j = Eq(M[2,1],R[2,1])\n",
    "k = Eq(M[2,2],R[2,2])\n",
    "l = Eq(M[2,3],R[2,3])\n",
    "m = Eq(M[3,0],R[3,0])\n",
    "n = Eq(M[3,1],R[3,1])\n",
    "o = Eq(M[3,2],R[3,2])\n",
    "p = Eq(M[3,3],R[3,3])\n",
    "\n",
    "\n",
    "solve([a,b,c,d,e,f,g,h,i,j,k,l,m,n,o,p],(cxy, sxy,cxz, sxz,cxw, sxw,cyz, syz,cyw, syw, czw, szw), simplify=False, rational=False)"
   ]
  }
 ],
 "metadata": {
  "kernelspec": {
   "display_name": "Python 3",
   "language": "python",
   "name": "python3"
  },
  "language_info": {
   "codemirror_mode": {
    "name": "ipython",
    "version": 3
   },
   "file_extension": ".py",
   "mimetype": "text/x-python",
   "name": "python",
   "nbconvert_exporter": "python",
   "pygments_lexer": "ipython3",
   "version": "3.8.2"
  }
 },
 "nbformat": 4,
 "nbformat_minor": 4
}
